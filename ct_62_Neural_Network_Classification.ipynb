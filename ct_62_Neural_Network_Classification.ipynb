{
  "nbformat": 4,
  "nbformat_minor": 0,
  "metadata": {
    "colab": {
      "name": "ct 62 Neural_Network_Classification.ipynb",
      "provenance": [],
      "collapsed_sections": [],
      "include_colab_link": true
    },
    "kernelspec": {
      "name": "python3",
      "display_name": "Python 3"
    },
    "language_info": {
      "name": "python"
    }
  },
  "cells": [
    {
      "cell_type": "markdown",
      "metadata": {
        "id": "view-in-github",
        "colab_type": "text"
      },
      "source": [
        "<a href=\"https://colab.research.google.com/github/varunbairagi/Machine-Learning-CT62/blob/main/ct_62_Neural_Network_Classification.ipynb\" target=\"_parent\"><img src=\"https://colab.research.google.com/assets/colab-badge.svg\" alt=\"Open In Colab\"/></a>"
      ]
    },
    {
      "cell_type": "markdown",
      "metadata": {
        "id": "nhPEM4IUoDKA"
      },
      "source": [
        "CO CST IMPLEMENTATION OF NEURAL NETWORK\n",
        "\n"
      ]
    },
    {
      "cell_type": "markdown",
      "metadata": {
        "id": "ZpJe0cAaoG98"
      },
      "source": [
        "# Tutorial 3: Neural Network Classification"
      ]
    },
    {
      "cell_type": "markdown",
      "metadata": {
        "id": "dIT7QrK2PwdM"
      },
      "source": [
        "Dataset: [Pima Indian Diabetes Dataset](https://data.world/data-society/pima-indians-diabetes-database#)\n",
        "\n",
        "This dataset is originally from the National Institute of Diabetes and Digestive and Kidney Diseases. The objective is to predict based on diagnostic measurements whether a patient has diabetes.\n",
        "\n",
        "Several constraints were placed on the selection of these instances from a larger database. In particular, all patients here are females at least 21 years old of Pima Indian heritage.\n",
        "\n",
        "Attributes of PIMA dataset:\n",
        "\n",
        "**Pregnancies**: Number of times pregnant\n",
        "\n",
        "**Glucose**: Plasma glucose concentration a 2 hours in an oral glucose tolerance test\n",
        "\n",
        "**BloodPressure**: Diastolic blood pressure (mm Hg)\n",
        "\n",
        "**SkinThickness**: Triceps skin fold thickness (mm)\n",
        "\n",
        "**Insulin**: 2-Hour serum insulin (mu U/ml)\n",
        "\n",
        "**BMI**: Body mass index (weight in kg/(height in m)^2)\n",
        "\n",
        "**DiabetesPedigreeFunction**: Diabetes pedigree function\n",
        "\n",
        "**Age**: Age (years)\n",
        "\n",
        "**Outcome**: Class variable (0 or 1)"
      ]
    },
    {
      "cell_type": "markdown",
      "metadata": {
        "id": "FIAgs3sTY712"
      },
      "source": [
        "**1. Mount the Google Drive**"
      ]
    },
    {
      "cell_type": "code",
      "metadata": {
        "id": "CrZg_G5MQ4L5",
        "colab": {
          "base_uri": "https://localhost:8080/"
        },
        "outputId": "771d95ed-d510-47ae-ae4d-4b7a0dccff49"
      },
      "source": [
        "from google.colab import drive\n",
        "drive.mount('/content/drive')"
      ],
      "execution_count": 7,
      "outputs": [
        {
          "output_type": "stream",
          "name": "stdout",
          "text": [
            "Drive already mounted at /content/drive; to attempt to forcibly remount, call drive.mount(\"/content/drive\", force_remount=True).\n"
          ]
        }
      ]
    },
    {
      "cell_type": "markdown",
      "metadata": {
        "id": "CqAhYoWHZAwg"
      },
      "source": [
        "**2. Move to the place where data resides**"
      ]
    },
    {
      "cell_type": "code",
      "metadata": {
        "colab": {
          "base_uri": "https://localhost:8080/"
        },
        "id": "TjgG_3CiP4eQ",
        "outputId": "908fbc19-9d7d-4d5f-ed16-463990e5c910"
      },
      "source": [
        "%cd /content/drive/MyDrive/"
      ],
      "execution_count": 8,
      "outputs": [
        {
          "output_type": "stream",
          "name": "stdout",
          "text": [
            "/content/drive/MyDrive\n"
          ]
        }
      ]
    },
    {
      "cell_type": "code",
      "source": [
        "!ls"
      ],
      "metadata": {
        "id": "S-KhHH_xATY8",
        "colab": {
          "base_uri": "https://localhost:8080/"
        },
        "outputId": "7f497049-92ce-4cee-8be1-57819b213b3c"
      },
      "execution_count": 9,
      "outputs": [
        {
          "output_type": "stream",
          "name": "stdout",
          "text": [
            " 0827CT191062.docx\n",
            " 0827CT191062_linuxlab.pdf\n",
            "'alexa decription.pdf'\n",
            " Classroom\n",
            "'codechef varunCT62.pdf'\n",
            "'Colab Notebooks'\n",
            "'CST-3rd year V sem DBMS CST'\n",
            " custom_trainvalacc.png\n",
            " custom_trainvalloss.png\n",
            "'cyber assignment CT62.pdf'\n",
            " diabetes.csv\n",
            " Document\n",
            "'Document from Varun Bairagi'\n",
            " DriveAce\n",
            " DriveApp\n",
            " DrivePro\n",
            " GDToT\n",
            "'Getting started.pdf'\n",
            " images\n",
            " IMG-20210811-WA0002.jpg\n",
            "'IMG_20211217_220848 (1).jpg'\n",
            " IMG_20211217_220848.jpg\n",
            "'Iwt assignment'\n",
            " laptops.csv.gsheet\n",
            " let-us-c-plus-plus-yashwant-kanetkar.pdf\n",
            "'Linux lab work'\n",
            " Logistic_Regression_Scratch.ipynb\n",
            "'machine learning'\n",
            " MicrosoftCertificate.pdf\n",
            " modify_zero.origin\n",
            " movies\n",
            "'MST-1_Data Structure Quiz CT.csv.gsheet'\n",
            "'online lecture-ADA'\n",
            " petrol_consumption.csv\n",
            "'prathvi project'\n",
            " Project\n",
            " project1\n",
            " python_70_qus_assig_CT62_varun\n",
            " Screenshot_2021-09-15-12-10-48-883_com.google.android.youtube.jpg\n",
            " Screenshot_20211004-174653.png\n",
            " Screenshot_2022-03-08-10-41-35-748_com.android.chrome.jpg\n",
            " ShareGDrive\n",
            "'TOC Lab Ass 4 ct62.docx'\n",
            "'Varun Bairagi 0827CT191062.docx'\n",
            "'varun bairagi assignment.docx'\n",
            "'Varun Bairagi CT62.pdf'\n",
            "'varun bairagi digital system lab (1).pdf'\n",
            " voiceflow-export-1640777811121.png\n",
            "'voiceflow-export-1640777825174 (1).pdf'\n",
            " zero.origin\n"
          ]
        }
      ]
    },
    {
      "cell_type": "code",
      "source": [
        ""
      ],
      "metadata": {
        "id": "f65jHMx2I_1O"
      },
      "execution_count": 9,
      "outputs": []
    },
    {
      "cell_type": "markdown",
      "metadata": {
        "id": "VKvfswsOZLUB"
      },
      "source": [
        "**3. Read the dataset from CSV file**"
      ]
    },
    {
      "cell_type": "code",
      "metadata": {
        "colab": {
          "base_uri": "https://localhost:8080/",
          "height": 407
        },
        "id": "32nNonRSSaQq",
        "outputId": "1319c793-6412-4c7d-b922-e9089fd3868f"
      },
      "source": [
        "import pandas as pd\n",
        "data = pd.read_csv('diabetes.csv')\n",
        "data.head(10)"
      ],
      "execution_count": 10,
      "outputs": [
        {
          "output_type": "execute_result",
          "data": {
            "text/plain": [
              "   Pregnancies  Glucose  BloodPressure  SkinThickness  Insulin   BMI  \\\n",
              "0            6      148             72             35        0  33.6   \n",
              "1            1       85             66             29        0  26.6   \n",
              "2            8      183             64              0        0  23.3   \n",
              "3            1       89             66             23       94  28.1   \n",
              "4            0      137             40             35      168  43.1   \n",
              "5            5      116             74              0        0  25.6   \n",
              "6            3       78             50             32       88  31.0   \n",
              "7           10      115              0              0        0  35.3   \n",
              "8            2      197             70             45      543  30.5   \n",
              "9            8      125             96              0        0   0.0   \n",
              "\n",
              "   DiabetesPedigreeFunction  Age  Outcome  \n",
              "0                     0.627   50        1  \n",
              "1                     0.351   31        0  \n",
              "2                     0.672   32        1  \n",
              "3                     0.167   21        0  \n",
              "4                     2.288   33        1  \n",
              "5                     0.201   30        0  \n",
              "6                     0.248   26        1  \n",
              "7                     0.134   29        0  \n",
              "8                     0.158   53        1  \n",
              "9                     0.232   54        1  "
            ],
            "text/html": [
              "\n",
              "  <div id=\"df-188e9d62-892e-485d-a4f7-3d64ae35f713\">\n",
              "    <div class=\"colab-df-container\">\n",
              "      <div>\n",
              "<style scoped>\n",
              "    .dataframe tbody tr th:only-of-type {\n",
              "        vertical-align: middle;\n",
              "    }\n",
              "\n",
              "    .dataframe tbody tr th {\n",
              "        vertical-align: top;\n",
              "    }\n",
              "\n",
              "    .dataframe thead th {\n",
              "        text-align: right;\n",
              "    }\n",
              "</style>\n",
              "<table border=\"1\" class=\"dataframe\">\n",
              "  <thead>\n",
              "    <tr style=\"text-align: right;\">\n",
              "      <th></th>\n",
              "      <th>Pregnancies</th>\n",
              "      <th>Glucose</th>\n",
              "      <th>BloodPressure</th>\n",
              "      <th>SkinThickness</th>\n",
              "      <th>Insulin</th>\n",
              "      <th>BMI</th>\n",
              "      <th>DiabetesPedigreeFunction</th>\n",
              "      <th>Age</th>\n",
              "      <th>Outcome</th>\n",
              "    </tr>\n",
              "  </thead>\n",
              "  <tbody>\n",
              "    <tr>\n",
              "      <th>0</th>\n",
              "      <td>6</td>\n",
              "      <td>148</td>\n",
              "      <td>72</td>\n",
              "      <td>35</td>\n",
              "      <td>0</td>\n",
              "      <td>33.6</td>\n",
              "      <td>0.627</td>\n",
              "      <td>50</td>\n",
              "      <td>1</td>\n",
              "    </tr>\n",
              "    <tr>\n",
              "      <th>1</th>\n",
              "      <td>1</td>\n",
              "      <td>85</td>\n",
              "      <td>66</td>\n",
              "      <td>29</td>\n",
              "      <td>0</td>\n",
              "      <td>26.6</td>\n",
              "      <td>0.351</td>\n",
              "      <td>31</td>\n",
              "      <td>0</td>\n",
              "    </tr>\n",
              "    <tr>\n",
              "      <th>2</th>\n",
              "      <td>8</td>\n",
              "      <td>183</td>\n",
              "      <td>64</td>\n",
              "      <td>0</td>\n",
              "      <td>0</td>\n",
              "      <td>23.3</td>\n",
              "      <td>0.672</td>\n",
              "      <td>32</td>\n",
              "      <td>1</td>\n",
              "    </tr>\n",
              "    <tr>\n",
              "      <th>3</th>\n",
              "      <td>1</td>\n",
              "      <td>89</td>\n",
              "      <td>66</td>\n",
              "      <td>23</td>\n",
              "      <td>94</td>\n",
              "      <td>28.1</td>\n",
              "      <td>0.167</td>\n",
              "      <td>21</td>\n",
              "      <td>0</td>\n",
              "    </tr>\n",
              "    <tr>\n",
              "      <th>4</th>\n",
              "      <td>0</td>\n",
              "      <td>137</td>\n",
              "      <td>40</td>\n",
              "      <td>35</td>\n",
              "      <td>168</td>\n",
              "      <td>43.1</td>\n",
              "      <td>2.288</td>\n",
              "      <td>33</td>\n",
              "      <td>1</td>\n",
              "    </tr>\n",
              "    <tr>\n",
              "      <th>5</th>\n",
              "      <td>5</td>\n",
              "      <td>116</td>\n",
              "      <td>74</td>\n",
              "      <td>0</td>\n",
              "      <td>0</td>\n",
              "      <td>25.6</td>\n",
              "      <td>0.201</td>\n",
              "      <td>30</td>\n",
              "      <td>0</td>\n",
              "    </tr>\n",
              "    <tr>\n",
              "      <th>6</th>\n",
              "      <td>3</td>\n",
              "      <td>78</td>\n",
              "      <td>50</td>\n",
              "      <td>32</td>\n",
              "      <td>88</td>\n",
              "      <td>31.0</td>\n",
              "      <td>0.248</td>\n",
              "      <td>26</td>\n",
              "      <td>1</td>\n",
              "    </tr>\n",
              "    <tr>\n",
              "      <th>7</th>\n",
              "      <td>10</td>\n",
              "      <td>115</td>\n",
              "      <td>0</td>\n",
              "      <td>0</td>\n",
              "      <td>0</td>\n",
              "      <td>35.3</td>\n",
              "      <td>0.134</td>\n",
              "      <td>29</td>\n",
              "      <td>0</td>\n",
              "    </tr>\n",
              "    <tr>\n",
              "      <th>8</th>\n",
              "      <td>2</td>\n",
              "      <td>197</td>\n",
              "      <td>70</td>\n",
              "      <td>45</td>\n",
              "      <td>543</td>\n",
              "      <td>30.5</td>\n",
              "      <td>0.158</td>\n",
              "      <td>53</td>\n",
              "      <td>1</td>\n",
              "    </tr>\n",
              "    <tr>\n",
              "      <th>9</th>\n",
              "      <td>8</td>\n",
              "      <td>125</td>\n",
              "      <td>96</td>\n",
              "      <td>0</td>\n",
              "      <td>0</td>\n",
              "      <td>0.0</td>\n",
              "      <td>0.232</td>\n",
              "      <td>54</td>\n",
              "      <td>1</td>\n",
              "    </tr>\n",
              "  </tbody>\n",
              "</table>\n",
              "</div>\n",
              "      <button class=\"colab-df-convert\" onclick=\"convertToInteractive('df-188e9d62-892e-485d-a4f7-3d64ae35f713')\"\n",
              "              title=\"Convert this dataframe to an interactive table.\"\n",
              "              style=\"display:none;\">\n",
              "        \n",
              "  <svg xmlns=\"http://www.w3.org/2000/svg\" height=\"24px\"viewBox=\"0 0 24 24\"\n",
              "       width=\"24px\">\n",
              "    <path d=\"M0 0h24v24H0V0z\" fill=\"none\"/>\n",
              "    <path d=\"M18.56 5.44l.94 2.06.94-2.06 2.06-.94-2.06-.94-.94-2.06-.94 2.06-2.06.94zm-11 1L8.5 8.5l.94-2.06 2.06-.94-2.06-.94L8.5 2.5l-.94 2.06-2.06.94zm10 10l.94 2.06.94-2.06 2.06-.94-2.06-.94-.94-2.06-.94 2.06-2.06.94z\"/><path d=\"M17.41 7.96l-1.37-1.37c-.4-.4-.92-.59-1.43-.59-.52 0-1.04.2-1.43.59L10.3 9.45l-7.72 7.72c-.78.78-.78 2.05 0 2.83L4 21.41c.39.39.9.59 1.41.59.51 0 1.02-.2 1.41-.59l7.78-7.78 2.81-2.81c.8-.78.8-2.07 0-2.86zM5.41 20L4 18.59l7.72-7.72 1.47 1.35L5.41 20z\"/>\n",
              "  </svg>\n",
              "      </button>\n",
              "      \n",
              "  <style>\n",
              "    .colab-df-container {\n",
              "      display:flex;\n",
              "      flex-wrap:wrap;\n",
              "      gap: 12px;\n",
              "    }\n",
              "\n",
              "    .colab-df-convert {\n",
              "      background-color: #E8F0FE;\n",
              "      border: none;\n",
              "      border-radius: 50%;\n",
              "      cursor: pointer;\n",
              "      display: none;\n",
              "      fill: #1967D2;\n",
              "      height: 32px;\n",
              "      padding: 0 0 0 0;\n",
              "      width: 32px;\n",
              "    }\n",
              "\n",
              "    .colab-df-convert:hover {\n",
              "      background-color: #E2EBFA;\n",
              "      box-shadow: 0px 1px 2px rgba(60, 64, 67, 0.3), 0px 1px 3px 1px rgba(60, 64, 67, 0.15);\n",
              "      fill: #174EA6;\n",
              "    }\n",
              "\n",
              "    [theme=dark] .colab-df-convert {\n",
              "      background-color: #3B4455;\n",
              "      fill: #D2E3FC;\n",
              "    }\n",
              "\n",
              "    [theme=dark] .colab-df-convert:hover {\n",
              "      background-color: #434B5C;\n",
              "      box-shadow: 0px 1px 3px 1px rgba(0, 0, 0, 0.15);\n",
              "      filter: drop-shadow(0px 1px 2px rgba(0, 0, 0, 0.3));\n",
              "      fill: #FFFFFF;\n",
              "    }\n",
              "  </style>\n",
              "\n",
              "      <script>\n",
              "        const buttonEl =\n",
              "          document.querySelector('#df-188e9d62-892e-485d-a4f7-3d64ae35f713 button.colab-df-convert');\n",
              "        buttonEl.style.display =\n",
              "          google.colab.kernel.accessAllowed ? 'block' : 'none';\n",
              "\n",
              "        async function convertToInteractive(key) {\n",
              "          const element = document.querySelector('#df-188e9d62-892e-485d-a4f7-3d64ae35f713');\n",
              "          const dataTable =\n",
              "            await google.colab.kernel.invokeFunction('convertToInteractive',\n",
              "                                                     [key], {});\n",
              "          if (!dataTable) return;\n",
              "\n",
              "          const docLinkHtml = 'Like what you see? Visit the ' +\n",
              "            '<a target=\"_blank\" href=https://colab.research.google.com/notebooks/data_table.ipynb>data table notebook</a>'\n",
              "            + ' to learn more about interactive tables.';\n",
              "          element.innerHTML = '';\n",
              "          dataTable['output_type'] = 'display_data';\n",
              "          await google.colab.output.renderOutput(dataTable, element);\n",
              "          const docLink = document.createElement('div');\n",
              "          docLink.innerHTML = docLinkHtml;\n",
              "          element.appendChild(docLink);\n",
              "        }\n",
              "      </script>\n",
              "    </div>\n",
              "  </div>\n",
              "  "
            ]
          },
          "metadata": {},
          "execution_count": 10
        }
      ]
    },
    {
      "cell_type": "code",
      "metadata": {
        "colab": {
          "base_uri": "https://localhost:8080/"
        },
        "id": "ZrslDLESShr7",
        "outputId": "41b6bf48-4cc7-4ed6-d9c4-7983f06293e3"
      },
      "source": [
        "data.columns"
      ],
      "execution_count": 11,
      "outputs": [
        {
          "output_type": "execute_result",
          "data": {
            "text/plain": [
              "Index(['Pregnancies', 'Glucose', 'BloodPressure', 'SkinThickness', 'Insulin',\n",
              "       'BMI', 'DiabetesPedigreeFunction', 'Age', 'Outcome'],\n",
              "      dtype='object')"
            ]
          },
          "metadata": {},
          "execution_count": 11
        }
      ]
    },
    {
      "cell_type": "code",
      "metadata": {
        "colab": {
          "base_uri": "https://localhost:8080/"
        },
        "id": "BLElehZ-Skgq",
        "outputId": "671ecd07-2f97-4913-c9bf-ff7c58fed56d"
      },
      "source": [
        "data.values"
      ],
      "execution_count": 12,
      "outputs": [
        {
          "output_type": "execute_result",
          "data": {
            "text/plain": [
              "array([[  6.   , 148.   ,  72.   , ...,   0.627,  50.   ,   1.   ],\n",
              "       [  1.   ,  85.   ,  66.   , ...,   0.351,  31.   ,   0.   ],\n",
              "       [  8.   , 183.   ,  64.   , ...,   0.672,  32.   ,   1.   ],\n",
              "       ...,\n",
              "       [  5.   , 121.   ,  72.   , ...,   0.245,  30.   ,   0.   ],\n",
              "       [  1.   , 126.   ,  60.   , ...,   0.349,  47.   ,   1.   ],\n",
              "       [  1.   ,  93.   ,  70.   , ...,   0.315,  23.   ,   0.   ]])"
            ]
          },
          "metadata": {},
          "execution_count": 12
        }
      ]
    },
    {
      "cell_type": "markdown",
      "metadata": {
        "id": "2HnZxGc4ZQlf"
      },
      "source": [
        "**4. Store the data into input feature and label variables**"
      ]
    },
    {
      "cell_type": "code",
      "metadata": {
        "colab": {
          "base_uri": "https://localhost:8080/"
        },
        "id": "IPfA5BF0Sm4R",
        "outputId": "817f905b-72cb-4d9e-91a5-4afdc142e0aa"
      },
      "source": [
        "dataset= data.values\n",
        "X = dataset[:,0:8]\n",
        "Y = dataset[:,8]\n",
        "print(X)\n",
        "print(Y)"
      ],
      "execution_count": 13,
      "outputs": [
        {
          "output_type": "stream",
          "name": "stdout",
          "text": [
            "[[  6.    148.     72.    ...  33.6     0.627  50.   ]\n",
            " [  1.     85.     66.    ...  26.6     0.351  31.   ]\n",
            " [  8.    183.     64.    ...  23.3     0.672  32.   ]\n",
            " ...\n",
            " [  5.    121.     72.    ...  26.2     0.245  30.   ]\n",
            " [  1.    126.     60.    ...  30.1     0.349  47.   ]\n",
            " [  1.     93.     70.    ...  30.4     0.315  23.   ]]\n",
            "[1. 0. 1. 0. 1. 0. 1. 0. 1. 1. 0. 1. 0. 1. 1. 1. 1. 1. 0. 1. 0. 0. 1. 1.\n",
            " 1. 1. 1. 0. 0. 0. 0. 1. 0. 0. 0. 0. 0. 1. 1. 1. 0. 0. 0. 1. 0. 1. 0. 0.\n",
            " 1. 0. 0. 0. 0. 1. 0. 0. 1. 0. 0. 0. 0. 1. 0. 0. 1. 0. 1. 0. 0. 0. 1. 0.\n",
            " 1. 0. 0. 0. 0. 0. 1. 0. 0. 0. 0. 0. 1. 0. 0. 0. 1. 0. 0. 0. 0. 1. 0. 0.\n",
            " 0. 0. 0. 1. 1. 0. 0. 0. 0. 0. 0. 0. 0. 1. 1. 1. 0. 0. 1. 1. 1. 0. 0. 0.\n",
            " 1. 0. 0. 0. 1. 1. 0. 0. 1. 1. 1. 1. 1. 0. 0. 0. 0. 0. 0. 0. 0. 0. 0. 1.\n",
            " 0. 0. 0. 0. 0. 0. 0. 0. 1. 0. 1. 1. 0. 0. 0. 1. 0. 0. 0. 0. 1. 1. 0. 0.\n",
            " 0. 0. 1. 1. 0. 0. 0. 1. 0. 1. 0. 1. 0. 0. 0. 0. 0. 1. 1. 1. 1. 1. 0. 0.\n",
            " 1. 1. 0. 1. 0. 1. 1. 1. 0. 0. 0. 0. 0. 0. 1. 1. 0. 1. 0. 0. 0. 1. 1. 1.\n",
            " 1. 0. 1. 1. 1. 1. 0. 0. 0. 0. 0. 1. 0. 0. 1. 1. 0. 0. 0. 1. 1. 1. 1. 0.\n",
            " 0. 0. 1. 1. 0. 1. 0. 0. 0. 0. 0. 0. 0. 0. 1. 1. 0. 0. 0. 1. 0. 1. 0. 0.\n",
            " 1. 0. 1. 0. 0. 1. 1. 0. 0. 0. 0. 0. 1. 0. 0. 0. 1. 0. 0. 1. 1. 0. 0. 1.\n",
            " 0. 0. 0. 1. 1. 1. 0. 0. 1. 0. 1. 0. 1. 1. 0. 1. 0. 0. 1. 0. 1. 1. 0. 0.\n",
            " 1. 0. 1. 0. 0. 1. 0. 1. 0. 1. 1. 1. 0. 0. 1. 0. 1. 0. 0. 0. 1. 0. 0. 0.\n",
            " 0. 1. 1. 1. 0. 0. 0. 0. 0. 0. 0. 0. 0. 1. 0. 0. 0. 0. 0. 1. 1. 1. 0. 1.\n",
            " 1. 0. 0. 1. 0. 0. 1. 0. 0. 1. 1. 0. 0. 0. 0. 1. 0. 0. 1. 0. 0. 0. 0. 0.\n",
            " 0. 0. 1. 1. 1. 0. 0. 1. 0. 0. 1. 0. 0. 1. 0. 1. 1. 0. 1. 0. 1. 0. 1. 0.\n",
            " 1. 1. 0. 0. 0. 0. 1. 1. 0. 1. 0. 1. 0. 0. 0. 0. 1. 1. 0. 1. 0. 1. 0. 0.\n",
            " 0. 0. 0. 1. 0. 0. 0. 0. 1. 0. 0. 1. 1. 1. 0. 0. 1. 0. 0. 1. 0. 0. 0. 1.\n",
            " 0. 0. 1. 0. 0. 0. 0. 0. 0. 0. 0. 0. 1. 0. 0. 0. 0. 0. 0. 0. 1. 0. 0. 0.\n",
            " 1. 0. 0. 0. 1. 1. 0. 0. 0. 0. 0. 0. 0. 1. 0. 0. 0. 0. 1. 0. 0. 0. 1. 0.\n",
            " 0. 0. 1. 0. 0. 0. 1. 0. 0. 0. 0. 1. 1. 0. 0. 0. 0. 0. 0. 1. 0. 0. 0. 0.\n",
            " 0. 0. 0. 0. 0. 0. 0. 1. 0. 0. 0. 1. 1. 1. 1. 0. 0. 1. 1. 0. 0. 0. 0. 0.\n",
            " 0. 0. 0. 0. 0. 0. 0. 0. 1. 1. 0. 0. 0. 0. 0. 0. 0. 1. 0. 0. 0. 0. 0. 0.\n",
            " 0. 1. 0. 1. 1. 0. 0. 0. 1. 0. 1. 0. 1. 0. 1. 0. 1. 0. 0. 1. 0. 0. 1. 0.\n",
            " 0. 0. 0. 1. 1. 0. 1. 0. 0. 0. 0. 1. 1. 0. 1. 0. 0. 0. 1. 1. 0. 0. 0. 0.\n",
            " 0. 0. 0. 0. 0. 0. 1. 0. 0. 0. 0. 1. 0. 0. 1. 0. 0. 0. 1. 0. 0. 0. 1. 1.\n",
            " 1. 0. 0. 0. 0. 0. 0. 1. 0. 0. 0. 1. 0. 1. 1. 1. 1. 0. 1. 1. 0. 0. 0. 0.\n",
            " 0. 0. 0. 1. 1. 0. 1. 0. 0. 1. 0. 1. 0. 0. 0. 0. 0. 1. 0. 1. 0. 1. 0. 1.\n",
            " 1. 0. 0. 0. 0. 1. 1. 0. 0. 0. 1. 0. 1. 1. 0. 0. 1. 0. 0. 1. 1. 0. 0. 1.\n",
            " 0. 0. 1. 0. 0. 0. 0. 0. 0. 0. 1. 1. 1. 0. 0. 0. 0. 0. 0. 1. 1. 0. 0. 1.\n",
            " 0. 0. 1. 0. 1. 1. 1. 0. 0. 1. 1. 1. 0. 1. 0. 1. 0. 1. 0. 0. 0. 0. 1. 0.]\n"
          ]
        }
      ]
    },
    {
      "cell_type": "markdown",
      "metadata": {
        "id": "OdPZerNUZV4Q"
      },
      "source": [
        "**5. Data Normalization**"
      ]
    },
    {
      "cell_type": "code",
      "metadata": {
        "colab": {
          "base_uri": "https://localhost:8080/"
        },
        "id": "pM4g3T1fWri-",
        "outputId": "8a556eaf-13ab-477a-8168-ae234478c4f1"
      },
      "source": [
        "from sklearn import preprocessing\n",
        "min_max_scaler = preprocessing.MinMaxScaler()\n",
        "X_scale = min_max_scaler.fit_transform(X)\n",
        "X_scale"
      ],
      "execution_count": 14,
      "outputs": [
        {
          "output_type": "execute_result",
          "data": {
            "text/plain": [
              "array([[0.35294118, 0.74371859, 0.59016393, ..., 0.50074516, 0.23441503,\n",
              "        0.48333333],\n",
              "       [0.05882353, 0.42713568, 0.54098361, ..., 0.39642325, 0.11656704,\n",
              "        0.16666667],\n",
              "       [0.47058824, 0.91959799, 0.52459016, ..., 0.34724292, 0.25362938,\n",
              "        0.18333333],\n",
              "       ...,\n",
              "       [0.29411765, 0.6080402 , 0.59016393, ..., 0.390462  , 0.07130658,\n",
              "        0.15      ],\n",
              "       [0.05882353, 0.63316583, 0.49180328, ..., 0.4485842 , 0.11571307,\n",
              "        0.43333333],\n",
              "       [0.05882353, 0.46733668, 0.57377049, ..., 0.45305514, 0.10119556,\n",
              "        0.03333333]])"
            ]
          },
          "metadata": {},
          "execution_count": 14
        }
      ]
    },
    {
      "cell_type": "markdown",
      "metadata": {
        "id": "n1B5x8C0ZY-e"
      },
      "source": [
        "**6. One-hot vector conversion**"
      ]
    },
    {
      "cell_type": "code",
      "metadata": {
        "colab": {
          "base_uri": "https://localhost:8080/"
        },
        "id": "IWPUAnA-XNd8",
        "outputId": "38eb0175-31e9-4665-c87c-e93c1187e079"
      },
      "source": [
        "from keras.utils import np_utils\n",
        "encoded_y = np_utils.to_categorical(Y)\n",
        "encoded_y"
      ],
      "execution_count": 15,
      "outputs": [
        {
          "output_type": "execute_result",
          "data": {
            "text/plain": [
              "array([[0., 1.],\n",
              "       [1., 0.],\n",
              "       [0., 1.],\n",
              "       ...,\n",
              "       [1., 0.],\n",
              "       [0., 1.],\n",
              "       [1., 0.]], dtype=float32)"
            ]
          },
          "metadata": {},
          "execution_count": 15
        }
      ]
    },
    {
      "cell_type": "markdown",
      "metadata": {
        "id": "IeJWmMxjZbgo"
      },
      "source": [
        "**7. Split the dataset into training, testing and validation set**"
      ]
    },
    {
      "cell_type": "code",
      "metadata": {
        "colab": {
          "base_uri": "https://localhost:8080/"
        },
        "id": "3BqXnV1FXYIV",
        "outputId": "6efbf50f-2b47-4f4d-9941-056fa1466111"
      },
      "source": [
        "from sklearn.model_selection import train_test_split\n",
        "X_training, X_testing, Y_training, Y_testing = train_test_split(X_scale, encoded_y, test_size=0.4, random_state=15)\n",
        "X_training, X_valid, Y_training, Y_valid = train_test_split(X_training, Y_training, test_size=0.7, random_state=20)\n",
        "print(len(X_training))\n",
        "print(len(X_testing))\n",
        "print(len(X_valid))"
      ],
      "execution_count": 16,
      "outputs": [
        {
          "output_type": "stream",
          "name": "stdout",
          "text": [
            "138\n",
            "308\n",
            "322\n"
          ]
        }
      ]
    },
    {
      "cell_type": "markdown",
      "metadata": {
        "id": "EH9IZizVZfKB"
      },
      "source": [
        "**8. Model Creation**"
      ]
    },
    {
      "cell_type": "code",
      "metadata": {
        "id": "hNfmvbMOXeku",
        "colab": {
          "base_uri": "https://localhost:8080/"
        },
        "outputId": "06de9a38-e60b-41cc-fd30-d539acf6a7a7"
      },
      "source": [
        "from keras.models import Sequential\n",
        "from keras.layers import Dense\n",
        "\n",
        "# Creating the model\n",
        "model = Sequential()\n",
        "model.add(Dense(20, input_shape=(8,), activation='relu'))\n",
        "model.add(Dense(25, activation='relu'))\n",
        "model.add(Dense(12, activation='tanh'))\n",
        "model.add(Dense(2, activation='softmax'))\n",
        "model.summary()   #gives a summary of the model"
      ],
      "execution_count": 17,
      "outputs": [
        {
          "output_type": "stream",
          "name": "stdout",
          "text": [
            "Model: \"sequential_1\"\n",
            "_________________________________________________________________\n",
            " Layer (type)                Output Shape              Param #   \n",
            "=================================================================\n",
            " dense_4 (Dense)             (None, 20)                180       \n",
            "                                                                 \n",
            " dense_5 (Dense)             (None, 25)                525       \n",
            "                                                                 \n",
            " dense_6 (Dense)             (None, 12)                312       \n",
            "                                                                 \n",
            " dense_7 (Dense)             (None, 2)                 26        \n",
            "                                                                 \n",
            "=================================================================\n",
            "Total params: 1,043\n",
            "Trainable params: 1,043\n",
            "Non-trainable params: 0\n",
            "_________________________________________________________________\n"
          ]
        }
      ]
    },
    {
      "cell_type": "markdown",
      "metadata": {
        "id": "iYxZHI_EZiEF"
      },
      "source": [
        "**9. Model Compile**"
      ]
    },
    {
      "cell_type": "code",
      "metadata": {
        "id": "plF2qlxwXiIY"
      },
      "source": [
        "from tensorflow.keras import optimizers\n",
        "opt=optimizers.SGD(learning_rate=0.001)\n",
        "model.compile(loss='categorical_crossentropy', optimizer=opt, metrics=['accuracy'])"
      ],
      "execution_count": 18,
      "outputs": []
    },
    {
      "cell_type": "markdown",
      "metadata": {
        "id": "E8VrUFVQZkNd"
      },
      "source": [
        "**10. Model Training**"
      ]
    },
    {
      "cell_type": "markdown",
      "source": [
        "if you have 1000 training examples, and your batch size is  500, then it will take 2 iterations to complete 1 epoch."
      ],
      "metadata": {
        "id": "08Ul5lN90_Sp"
      }
    },
    {
      "cell_type": "code",
      "metadata": {
        "colab": {
          "base_uri": "https://localhost:8080/"
        },
        "id": "xhDZ8yPhXrs0",
        "outputId": "06a3220f-8c10-4118-d270-4e4125a9acd3"
      },
      "source": [
        "hist = model.fit(X_training, Y_training,batch_size=6,  epochs=400, validation_data=(X_valid,Y_valid))"
      ],
      "execution_count": 19,
      "outputs": [
        {
          "output_type": "stream",
          "name": "stdout",
          "text": [
            "Epoch 1/400\n",
            "23/23 [==============================] - 1s 12ms/step - loss: 0.7049 - accuracy: 0.5290 - val_loss: 0.6836 - val_accuracy: 0.6149\n",
            "Epoch 2/400\n",
            "23/23 [==============================] - 0s 6ms/step - loss: 0.7030 - accuracy: 0.5652 - val_loss: 0.6810 - val_accuracy: 0.6273\n",
            "Epoch 3/400\n",
            "23/23 [==============================] - 0s 5ms/step - loss: 0.7009 - accuracy: 0.5580 - val_loss: 0.6788 - val_accuracy: 0.6335\n",
            "Epoch 4/400\n",
            "23/23 [==============================] - 0s 5ms/step - loss: 0.6994 - accuracy: 0.5580 - val_loss: 0.6769 - val_accuracy: 0.6429\n",
            "Epoch 5/400\n",
            "23/23 [==============================] - 0s 6ms/step - loss: 0.6978 - accuracy: 0.5652 - val_loss: 0.6751 - val_accuracy: 0.6491\n",
            "Epoch 6/400\n",
            "23/23 [==============================] - 0s 6ms/step - loss: 0.6968 - accuracy: 0.5797 - val_loss: 0.6736 - val_accuracy: 0.6460\n",
            "Epoch 7/400\n",
            "23/23 [==============================] - 0s 5ms/step - loss: 0.6953 - accuracy: 0.5870 - val_loss: 0.6722 - val_accuracy: 0.6522\n",
            "Epoch 8/400\n",
            "23/23 [==============================] - 0s 5ms/step - loss: 0.6944 - accuracy: 0.5870 - val_loss: 0.6709 - val_accuracy: 0.6491\n",
            "Epoch 9/400\n",
            "23/23 [==============================] - 0s 5ms/step - loss: 0.6933 - accuracy: 0.6014 - val_loss: 0.6699 - val_accuracy: 0.6429\n",
            "Epoch 10/400\n",
            "23/23 [==============================] - 0s 9ms/step - loss: 0.6921 - accuracy: 0.6014 - val_loss: 0.6689 - val_accuracy: 0.6398\n",
            "Epoch 11/400\n",
            "23/23 [==============================] - 0s 9ms/step - loss: 0.6915 - accuracy: 0.6014 - val_loss: 0.6681 - val_accuracy: 0.6429\n",
            "Epoch 12/400\n",
            "23/23 [==============================] - 0s 5ms/step - loss: 0.6906 - accuracy: 0.6014 - val_loss: 0.6672 - val_accuracy: 0.6429\n",
            "Epoch 13/400\n",
            "23/23 [==============================] - 0s 6ms/step - loss: 0.6896 - accuracy: 0.6087 - val_loss: 0.6664 - val_accuracy: 0.6429\n",
            "Epoch 14/400\n",
            "23/23 [==============================] - 0s 5ms/step - loss: 0.6887 - accuracy: 0.6087 - val_loss: 0.6656 - val_accuracy: 0.6429\n",
            "Epoch 15/400\n",
            "23/23 [==============================] - 0s 5ms/step - loss: 0.6877 - accuracy: 0.6087 - val_loss: 0.6648 - val_accuracy: 0.6429\n",
            "Epoch 16/400\n",
            "23/23 [==============================] - 0s 5ms/step - loss: 0.6872 - accuracy: 0.6087 - val_loss: 0.6642 - val_accuracy: 0.6429\n",
            "Epoch 17/400\n",
            "23/23 [==============================] - 0s 6ms/step - loss: 0.6865 - accuracy: 0.6087 - val_loss: 0.6634 - val_accuracy: 0.6429\n",
            "Epoch 18/400\n",
            "23/23 [==============================] - 0s 5ms/step - loss: 0.6855 - accuracy: 0.6014 - val_loss: 0.6628 - val_accuracy: 0.6429\n",
            "Epoch 19/400\n",
            "23/23 [==============================] - 0s 9ms/step - loss: 0.6849 - accuracy: 0.6014 - val_loss: 0.6621 - val_accuracy: 0.6429\n",
            "Epoch 20/400\n",
            "23/23 [==============================] - 0s 5ms/step - loss: 0.6840 - accuracy: 0.6014 - val_loss: 0.6614 - val_accuracy: 0.6429\n",
            "Epoch 21/400\n",
            "23/23 [==============================] - 0s 5ms/step - loss: 0.6833 - accuracy: 0.6014 - val_loss: 0.6608 - val_accuracy: 0.6429\n",
            "Epoch 22/400\n",
            "23/23 [==============================] - 0s 5ms/step - loss: 0.6825 - accuracy: 0.6014 - val_loss: 0.6601 - val_accuracy: 0.6429\n",
            "Epoch 23/400\n",
            "23/23 [==============================] - 0s 5ms/step - loss: 0.6818 - accuracy: 0.6014 - val_loss: 0.6595 - val_accuracy: 0.6429\n",
            "Epoch 24/400\n",
            "23/23 [==============================] - 0s 5ms/step - loss: 0.6812 - accuracy: 0.6014 - val_loss: 0.6589 - val_accuracy: 0.6429\n",
            "Epoch 25/400\n",
            "23/23 [==============================] - 0s 5ms/step - loss: 0.6804 - accuracy: 0.6014 - val_loss: 0.6584 - val_accuracy: 0.6429\n",
            "Epoch 26/400\n",
            "23/23 [==============================] - 0s 5ms/step - loss: 0.6797 - accuracy: 0.6014 - val_loss: 0.6578 - val_accuracy: 0.6429\n",
            "Epoch 27/400\n",
            "23/23 [==============================] - 0s 5ms/step - loss: 0.6789 - accuracy: 0.6014 - val_loss: 0.6572 - val_accuracy: 0.6429\n",
            "Epoch 28/400\n",
            "23/23 [==============================] - 0s 9ms/step - loss: 0.6781 - accuracy: 0.6014 - val_loss: 0.6566 - val_accuracy: 0.6429\n",
            "Epoch 29/400\n",
            "23/23 [==============================] - 0s 5ms/step - loss: 0.6773 - accuracy: 0.6087 - val_loss: 0.6561 - val_accuracy: 0.6429\n",
            "Epoch 30/400\n",
            "23/23 [==============================] - 0s 5ms/step - loss: 0.6767 - accuracy: 0.6014 - val_loss: 0.6556 - val_accuracy: 0.6429\n",
            "Epoch 31/400\n",
            "23/23 [==============================] - 0s 5ms/step - loss: 0.6760 - accuracy: 0.6014 - val_loss: 0.6551 - val_accuracy: 0.6429\n",
            "Epoch 32/400\n",
            "23/23 [==============================] - 0s 10ms/step - loss: 0.6755 - accuracy: 0.6014 - val_loss: 0.6545 - val_accuracy: 0.6429\n",
            "Epoch 33/400\n",
            "23/23 [==============================] - 0s 9ms/step - loss: 0.6745 - accuracy: 0.6014 - val_loss: 0.6540 - val_accuracy: 0.6429\n",
            "Epoch 34/400\n",
            "23/23 [==============================] - 0s 5ms/step - loss: 0.6739 - accuracy: 0.6014 - val_loss: 0.6535 - val_accuracy: 0.6429\n",
            "Epoch 35/400\n",
            "23/23 [==============================] - 0s 5ms/step - loss: 0.6732 - accuracy: 0.6014 - val_loss: 0.6530 - val_accuracy: 0.6429\n",
            "Epoch 36/400\n",
            "23/23 [==============================] - 0s 9ms/step - loss: 0.6726 - accuracy: 0.6014 - val_loss: 0.6524 - val_accuracy: 0.6429\n",
            "Epoch 37/400\n",
            "23/23 [==============================] - 0s 5ms/step - loss: 0.6719 - accuracy: 0.6014 - val_loss: 0.6520 - val_accuracy: 0.6429\n",
            "Epoch 38/400\n",
            "23/23 [==============================] - 0s 5ms/step - loss: 0.6716 - accuracy: 0.6014 - val_loss: 0.6515 - val_accuracy: 0.6429\n",
            "Epoch 39/400\n",
            "23/23 [==============================] - 0s 5ms/step - loss: 0.6709 - accuracy: 0.6014 - val_loss: 0.6510 - val_accuracy: 0.6429\n",
            "Epoch 40/400\n",
            "23/23 [==============================] - 0s 9ms/step - loss: 0.6701 - accuracy: 0.6014 - val_loss: 0.6505 - val_accuracy: 0.6429\n",
            "Epoch 41/400\n",
            "23/23 [==============================] - 0s 5ms/step - loss: 0.6696 - accuracy: 0.6014 - val_loss: 0.6501 - val_accuracy: 0.6429\n",
            "Epoch 42/400\n",
            "23/23 [==============================] - 0s 5ms/step - loss: 0.6690 - accuracy: 0.6014 - val_loss: 0.6495 - val_accuracy: 0.6429\n",
            "Epoch 43/400\n",
            "23/23 [==============================] - 0s 5ms/step - loss: 0.6684 - accuracy: 0.6014 - val_loss: 0.6490 - val_accuracy: 0.6429\n",
            "Epoch 44/400\n",
            "23/23 [==============================] - 0s 5ms/step - loss: 0.6678 - accuracy: 0.6014 - val_loss: 0.6485 - val_accuracy: 0.6429\n",
            "Epoch 45/400\n",
            "23/23 [==============================] - 0s 5ms/step - loss: 0.6671 - accuracy: 0.6014 - val_loss: 0.6480 - val_accuracy: 0.6429\n",
            "Epoch 46/400\n",
            "23/23 [==============================] - 0s 5ms/step - loss: 0.6664 - accuracy: 0.6014 - val_loss: 0.6475 - val_accuracy: 0.6429\n",
            "Epoch 47/400\n",
            "23/23 [==============================] - 0s 5ms/step - loss: 0.6660 - accuracy: 0.6014 - val_loss: 0.6471 - val_accuracy: 0.6429\n",
            "Epoch 48/400\n",
            "23/23 [==============================] - 0s 5ms/step - loss: 0.6655 - accuracy: 0.6014 - val_loss: 0.6467 - val_accuracy: 0.6429\n",
            "Epoch 49/400\n",
            "23/23 [==============================] - 0s 5ms/step - loss: 0.6649 - accuracy: 0.6014 - val_loss: 0.6462 - val_accuracy: 0.6429\n",
            "Epoch 50/400\n",
            "23/23 [==============================] - 0s 5ms/step - loss: 0.6642 - accuracy: 0.6014 - val_loss: 0.6457 - val_accuracy: 0.6429\n",
            "Epoch 51/400\n",
            "23/23 [==============================] - 0s 5ms/step - loss: 0.6639 - accuracy: 0.6014 - val_loss: 0.6452 - val_accuracy: 0.6429\n",
            "Epoch 52/400\n",
            "23/23 [==============================] - 0s 5ms/step - loss: 0.6633 - accuracy: 0.6014 - val_loss: 0.6448 - val_accuracy: 0.6429\n",
            "Epoch 53/400\n",
            "23/23 [==============================] - 0s 5ms/step - loss: 0.6626 - accuracy: 0.6014 - val_loss: 0.6443 - val_accuracy: 0.6429\n",
            "Epoch 54/400\n",
            "23/23 [==============================] - 0s 9ms/step - loss: 0.6623 - accuracy: 0.6014 - val_loss: 0.6439 - val_accuracy: 0.6429\n",
            "Epoch 55/400\n",
            "23/23 [==============================] - 0s 5ms/step - loss: 0.6620 - accuracy: 0.6014 - val_loss: 0.6435 - val_accuracy: 0.6429\n",
            "Epoch 56/400\n",
            "23/23 [==============================] - 0s 5ms/step - loss: 0.6610 - accuracy: 0.6014 - val_loss: 0.6430 - val_accuracy: 0.6429\n",
            "Epoch 57/400\n",
            "23/23 [==============================] - 0s 5ms/step - loss: 0.6608 - accuracy: 0.6014 - val_loss: 0.6426 - val_accuracy: 0.6429\n",
            "Epoch 58/400\n",
            "23/23 [==============================] - 0s 5ms/step - loss: 0.6600 - accuracy: 0.6014 - val_loss: 0.6421 - val_accuracy: 0.6429\n",
            "Epoch 59/400\n",
            "23/23 [==============================] - 0s 5ms/step - loss: 0.6596 - accuracy: 0.6014 - val_loss: 0.6418 - val_accuracy: 0.6429\n",
            "Epoch 60/400\n",
            "23/23 [==============================] - 0s 5ms/step - loss: 0.6591 - accuracy: 0.6014 - val_loss: 0.6415 - val_accuracy: 0.6429\n",
            "Epoch 61/400\n",
            "23/23 [==============================] - 0s 5ms/step - loss: 0.6584 - accuracy: 0.6014 - val_loss: 0.6410 - val_accuracy: 0.6429\n",
            "Epoch 62/400\n",
            "23/23 [==============================] - 0s 6ms/step - loss: 0.6579 - accuracy: 0.6014 - val_loss: 0.6405 - val_accuracy: 0.6429\n",
            "Epoch 63/400\n",
            "23/23 [==============================] - 0s 5ms/step - loss: 0.6574 - accuracy: 0.6014 - val_loss: 0.6401 - val_accuracy: 0.6429\n",
            "Epoch 64/400\n",
            "23/23 [==============================] - 0s 5ms/step - loss: 0.6570 - accuracy: 0.6014 - val_loss: 0.6397 - val_accuracy: 0.6429\n",
            "Epoch 65/400\n",
            "23/23 [==============================] - 0s 5ms/step - loss: 0.6568 - accuracy: 0.6014 - val_loss: 0.6393 - val_accuracy: 0.6429\n",
            "Epoch 66/400\n",
            "23/23 [==============================] - 0s 5ms/step - loss: 0.6562 - accuracy: 0.6014 - val_loss: 0.6388 - val_accuracy: 0.6429\n",
            "Epoch 67/400\n",
            "23/23 [==============================] - 0s 5ms/step - loss: 0.6556 - accuracy: 0.6014 - val_loss: 0.6384 - val_accuracy: 0.6429\n",
            "Epoch 68/400\n",
            "23/23 [==============================] - 0s 9ms/step - loss: 0.6551 - accuracy: 0.6014 - val_loss: 0.6380 - val_accuracy: 0.6429\n",
            "Epoch 69/400\n",
            "23/23 [==============================] - 0s 5ms/step - loss: 0.6546 - accuracy: 0.6014 - val_loss: 0.6375 - val_accuracy: 0.6429\n",
            "Epoch 70/400\n",
            "23/23 [==============================] - 0s 6ms/step - loss: 0.6545 - accuracy: 0.6014 - val_loss: 0.6371 - val_accuracy: 0.6429\n",
            "Epoch 71/400\n",
            "23/23 [==============================] - 0s 5ms/step - loss: 0.6536 - accuracy: 0.6014 - val_loss: 0.6367 - val_accuracy: 0.6429\n",
            "Epoch 72/400\n",
            "23/23 [==============================] - 0s 5ms/step - loss: 0.6532 - accuracy: 0.6014 - val_loss: 0.6362 - val_accuracy: 0.6429\n",
            "Epoch 73/400\n",
            "23/23 [==============================] - 0s 5ms/step - loss: 0.6526 - accuracy: 0.6014 - val_loss: 0.6358 - val_accuracy: 0.6429\n",
            "Epoch 74/400\n",
            "23/23 [==============================] - 0s 5ms/step - loss: 0.6523 - accuracy: 0.6014 - val_loss: 0.6354 - val_accuracy: 0.6429\n",
            "Epoch 75/400\n",
            "23/23 [==============================] - 0s 5ms/step - loss: 0.6519 - accuracy: 0.6014 - val_loss: 0.6350 - val_accuracy: 0.6429\n",
            "Epoch 76/400\n",
            "23/23 [==============================] - 0s 5ms/step - loss: 0.6513 - accuracy: 0.6014 - val_loss: 0.6346 - val_accuracy: 0.6429\n",
            "Epoch 77/400\n",
            "23/23 [==============================] - 0s 6ms/step - loss: 0.6511 - accuracy: 0.6014 - val_loss: 0.6342 - val_accuracy: 0.6429\n",
            "Epoch 78/400\n",
            "23/23 [==============================] - 0s 6ms/step - loss: 0.6503 - accuracy: 0.6014 - val_loss: 0.6338 - val_accuracy: 0.6398\n",
            "Epoch 79/400\n",
            "23/23 [==============================] - 0s 5ms/step - loss: 0.6503 - accuracy: 0.6014 - val_loss: 0.6334 - val_accuracy: 0.6398\n",
            "Epoch 80/400\n",
            "23/23 [==============================] - 0s 6ms/step - loss: 0.6494 - accuracy: 0.6014 - val_loss: 0.6330 - val_accuracy: 0.6429\n",
            "Epoch 81/400\n",
            "23/23 [==============================] - 0s 9ms/step - loss: 0.6490 - accuracy: 0.6014 - val_loss: 0.6327 - val_accuracy: 0.6429\n",
            "Epoch 82/400\n",
            "23/23 [==============================] - 0s 9ms/step - loss: 0.6486 - accuracy: 0.6014 - val_loss: 0.6323 - val_accuracy: 0.6429\n",
            "Epoch 83/400\n",
            "23/23 [==============================] - 0s 5ms/step - loss: 0.6481 - accuracy: 0.6087 - val_loss: 0.6318 - val_accuracy: 0.6429\n",
            "Epoch 84/400\n",
            "23/23 [==============================] - 0s 9ms/step - loss: 0.6477 - accuracy: 0.6014 - val_loss: 0.6315 - val_accuracy: 0.6429\n",
            "Epoch 85/400\n",
            "23/23 [==============================] - 0s 9ms/step - loss: 0.6473 - accuracy: 0.6087 - val_loss: 0.6311 - val_accuracy: 0.6429\n",
            "Epoch 86/400\n",
            "23/23 [==============================] - 0s 5ms/step - loss: 0.6467 - accuracy: 0.6087 - val_loss: 0.6307 - val_accuracy: 0.6429\n",
            "Epoch 87/400\n",
            "23/23 [==============================] - 0s 6ms/step - loss: 0.6465 - accuracy: 0.6087 - val_loss: 0.6303 - val_accuracy: 0.6429\n",
            "Epoch 88/400\n",
            "23/23 [==============================] - 0s 6ms/step - loss: 0.6457 - accuracy: 0.6087 - val_loss: 0.6299 - val_accuracy: 0.6460\n",
            "Epoch 89/400\n",
            "23/23 [==============================] - 0s 5ms/step - loss: 0.6454 - accuracy: 0.6014 - val_loss: 0.6295 - val_accuracy: 0.6460\n",
            "Epoch 90/400\n",
            "23/23 [==============================] - 0s 5ms/step - loss: 0.6449 - accuracy: 0.6087 - val_loss: 0.6291 - val_accuracy: 0.6491\n",
            "Epoch 91/400\n",
            "23/23 [==============================] - 0s 10ms/step - loss: 0.6442 - accuracy: 0.6014 - val_loss: 0.6286 - val_accuracy: 0.6491\n",
            "Epoch 92/400\n",
            "23/23 [==============================] - 0s 6ms/step - loss: 0.6438 - accuracy: 0.6087 - val_loss: 0.6282 - val_accuracy: 0.6491\n",
            "Epoch 93/400\n",
            "23/23 [==============================] - 0s 21ms/step - loss: 0.6433 - accuracy: 0.6014 - val_loss: 0.6278 - val_accuracy: 0.6491\n",
            "Epoch 94/400\n",
            "23/23 [==============================] - 1s 24ms/step - loss: 0.6431 - accuracy: 0.6014 - val_loss: 0.6274 - val_accuracy: 0.6491\n",
            "Epoch 95/400\n",
            "23/23 [==============================] - 0s 9ms/step - loss: 0.6426 - accuracy: 0.6014 - val_loss: 0.6269 - val_accuracy: 0.6491\n",
            "Epoch 96/400\n",
            "23/23 [==============================] - 0s 19ms/step - loss: 0.6420 - accuracy: 0.6014 - val_loss: 0.6266 - val_accuracy: 0.6491\n",
            "Epoch 97/400\n",
            "23/23 [==============================] - 1s 26ms/step - loss: 0.6420 - accuracy: 0.6087 - val_loss: 0.6262 - val_accuracy: 0.6491\n",
            "Epoch 98/400\n",
            "23/23 [==============================] - 0s 5ms/step - loss: 0.6413 - accuracy: 0.6014 - val_loss: 0.6258 - val_accuracy: 0.6491\n",
            "Epoch 99/400\n",
            "23/23 [==============================] - 0s 5ms/step - loss: 0.6410 - accuracy: 0.6087 - val_loss: 0.6253 - val_accuracy: 0.6491\n",
            "Epoch 100/400\n",
            "23/23 [==============================] - 0s 6ms/step - loss: 0.6403 - accuracy: 0.6087 - val_loss: 0.6250 - val_accuracy: 0.6522\n",
            "Epoch 101/400\n",
            "23/23 [==============================] - 0s 22ms/step - loss: 0.6398 - accuracy: 0.6087 - val_loss: 0.6245 - val_accuracy: 0.6491\n",
            "Epoch 102/400\n",
            "23/23 [==============================] - 1s 24ms/step - loss: 0.6393 - accuracy: 0.6087 - val_loss: 0.6242 - val_accuracy: 0.6491\n",
            "Epoch 103/400\n",
            "23/23 [==============================] - 0s 5ms/step - loss: 0.6388 - accuracy: 0.6087 - val_loss: 0.6239 - val_accuracy: 0.6553\n",
            "Epoch 104/400\n",
            "23/23 [==============================] - 0s 5ms/step - loss: 0.6383 - accuracy: 0.6087 - val_loss: 0.6235 - val_accuracy: 0.6584\n",
            "Epoch 105/400\n",
            "23/23 [==============================] - 0s 9ms/step - loss: 0.6378 - accuracy: 0.6087 - val_loss: 0.6231 - val_accuracy: 0.6584\n",
            "Epoch 106/400\n",
            "23/23 [==============================] - 0s 5ms/step - loss: 0.6376 - accuracy: 0.6087 - val_loss: 0.6227 - val_accuracy: 0.6584\n",
            "Epoch 107/400\n",
            "23/23 [==============================] - 0s 9ms/step - loss: 0.6369 - accuracy: 0.6087 - val_loss: 0.6223 - val_accuracy: 0.6584\n",
            "Epoch 108/400\n",
            "23/23 [==============================] - 0s 6ms/step - loss: 0.6364 - accuracy: 0.6159 - val_loss: 0.6219 - val_accuracy: 0.6584\n",
            "Epoch 109/400\n",
            "23/23 [==============================] - 0s 9ms/step - loss: 0.6362 - accuracy: 0.6087 - val_loss: 0.6215 - val_accuracy: 0.6584\n",
            "Epoch 110/400\n",
            "23/23 [==============================] - 0s 9ms/step - loss: 0.6357 - accuracy: 0.6087 - val_loss: 0.6211 - val_accuracy: 0.6553\n",
            "Epoch 111/400\n",
            "23/23 [==============================] - 0s 5ms/step - loss: 0.6355 - accuracy: 0.6159 - val_loss: 0.6206 - val_accuracy: 0.6553\n",
            "Epoch 112/400\n",
            "23/23 [==============================] - 0s 9ms/step - loss: 0.6349 - accuracy: 0.6159 - val_loss: 0.6202 - val_accuracy: 0.6553\n",
            "Epoch 113/400\n",
            "23/23 [==============================] - 0s 5ms/step - loss: 0.6344 - accuracy: 0.6159 - val_loss: 0.6198 - val_accuracy: 0.6553\n",
            "Epoch 114/400\n",
            "23/23 [==============================] - 0s 6ms/step - loss: 0.6342 - accuracy: 0.6159 - val_loss: 0.6194 - val_accuracy: 0.6553\n",
            "Epoch 115/400\n",
            "23/23 [==============================] - 0s 6ms/step - loss: 0.6334 - accuracy: 0.6159 - val_loss: 0.6190 - val_accuracy: 0.6553\n",
            "Epoch 116/400\n",
            "23/23 [==============================] - 0s 6ms/step - loss: 0.6329 - accuracy: 0.6159 - val_loss: 0.6185 - val_accuracy: 0.6553\n",
            "Epoch 117/400\n",
            "23/23 [==============================] - 0s 9ms/step - loss: 0.6324 - accuracy: 0.6159 - val_loss: 0.6181 - val_accuracy: 0.6553\n",
            "Epoch 118/400\n",
            "23/23 [==============================] - 0s 6ms/step - loss: 0.6324 - accuracy: 0.6159 - val_loss: 0.6178 - val_accuracy: 0.6553\n",
            "Epoch 119/400\n",
            "23/23 [==============================] - 0s 5ms/step - loss: 0.6317 - accuracy: 0.6159 - val_loss: 0.6174 - val_accuracy: 0.6584\n",
            "Epoch 120/400\n",
            "23/23 [==============================] - 0s 5ms/step - loss: 0.6313 - accuracy: 0.6159 - val_loss: 0.6170 - val_accuracy: 0.6553\n",
            "Epoch 121/400\n",
            "23/23 [==============================] - 0s 9ms/step - loss: 0.6305 - accuracy: 0.6159 - val_loss: 0.6166 - val_accuracy: 0.6553\n",
            "Epoch 122/400\n",
            "23/23 [==============================] - 0s 9ms/step - loss: 0.6306 - accuracy: 0.6159 - val_loss: 0.6162 - val_accuracy: 0.6553\n",
            "Epoch 123/400\n",
            "23/23 [==============================] - 0s 5ms/step - loss: 0.6297 - accuracy: 0.6232 - val_loss: 0.6158 - val_accuracy: 0.6553\n",
            "Epoch 124/400\n",
            "23/23 [==============================] - 0s 6ms/step - loss: 0.6296 - accuracy: 0.6159 - val_loss: 0.6153 - val_accuracy: 0.6553\n",
            "Epoch 125/400\n",
            "23/23 [==============================] - 0s 6ms/step - loss: 0.6290 - accuracy: 0.6159 - val_loss: 0.6150 - val_accuracy: 0.6553\n",
            "Epoch 126/400\n",
            "23/23 [==============================] - 0s 5ms/step - loss: 0.6282 - accuracy: 0.6232 - val_loss: 0.6146 - val_accuracy: 0.6553\n",
            "Epoch 127/400\n",
            "23/23 [==============================] - 0s 6ms/step - loss: 0.6279 - accuracy: 0.6232 - val_loss: 0.6142 - val_accuracy: 0.6615\n",
            "Epoch 128/400\n",
            "23/23 [==============================] - 0s 5ms/step - loss: 0.6278 - accuracy: 0.6232 - val_loss: 0.6138 - val_accuracy: 0.6646\n",
            "Epoch 129/400\n",
            "23/23 [==============================] - 0s 7ms/step - loss: 0.6273 - accuracy: 0.6159 - val_loss: 0.6134 - val_accuracy: 0.6677\n",
            "Epoch 130/400\n",
            "23/23 [==============================] - 0s 6ms/step - loss: 0.6269 - accuracy: 0.6159 - val_loss: 0.6130 - val_accuracy: 0.6646\n",
            "Epoch 131/400\n",
            "23/23 [==============================] - 0s 5ms/step - loss: 0.6262 - accuracy: 0.6232 - val_loss: 0.6126 - val_accuracy: 0.6646\n",
            "Epoch 132/400\n",
            "23/23 [==============================] - 0s 5ms/step - loss: 0.6260 - accuracy: 0.6232 - val_loss: 0.6123 - val_accuracy: 0.6646\n",
            "Epoch 133/400\n",
            "23/23 [==============================] - 0s 5ms/step - loss: 0.6253 - accuracy: 0.6159 - val_loss: 0.6119 - val_accuracy: 0.6646\n",
            "Epoch 134/400\n",
            "23/23 [==============================] - 0s 9ms/step - loss: 0.6252 - accuracy: 0.6232 - val_loss: 0.6117 - val_accuracy: 0.6646\n",
            "Epoch 135/400\n",
            "23/23 [==============================] - 0s 7ms/step - loss: 0.6247 - accuracy: 0.6232 - val_loss: 0.6112 - val_accuracy: 0.6646\n",
            "Epoch 136/400\n",
            "23/23 [==============================] - 0s 5ms/step - loss: 0.6242 - accuracy: 0.6232 - val_loss: 0.6107 - val_accuracy: 0.6646\n",
            "Epoch 137/400\n",
            "23/23 [==============================] - 0s 9ms/step - loss: 0.6236 - accuracy: 0.6232 - val_loss: 0.6104 - val_accuracy: 0.6677\n",
            "Epoch 138/400\n",
            "23/23 [==============================] - 0s 5ms/step - loss: 0.6234 - accuracy: 0.6232 - val_loss: 0.6100 - val_accuracy: 0.6708\n",
            "Epoch 139/400\n",
            "23/23 [==============================] - 0s 9ms/step - loss: 0.6227 - accuracy: 0.6232 - val_loss: 0.6096 - val_accuracy: 0.6739\n",
            "Epoch 140/400\n",
            "23/23 [==============================] - 0s 5ms/step - loss: 0.6225 - accuracy: 0.6159 - val_loss: 0.6092 - val_accuracy: 0.6739\n",
            "Epoch 141/400\n",
            "23/23 [==============================] - 0s 9ms/step - loss: 0.6217 - accuracy: 0.6304 - val_loss: 0.6088 - val_accuracy: 0.6739\n",
            "Epoch 142/400\n",
            "23/23 [==============================] - 0s 5ms/step - loss: 0.6215 - accuracy: 0.6232 - val_loss: 0.6084 - val_accuracy: 0.6770\n",
            "Epoch 143/400\n",
            "23/23 [==============================] - 0s 6ms/step - loss: 0.6212 - accuracy: 0.6232 - val_loss: 0.6081 - val_accuracy: 0.6739\n",
            "Epoch 144/400\n",
            "23/23 [==============================] - 0s 9ms/step - loss: 0.6206 - accuracy: 0.6304 - val_loss: 0.6077 - val_accuracy: 0.6739\n",
            "Epoch 145/400\n",
            "23/23 [==============================] - 0s 5ms/step - loss: 0.6202 - accuracy: 0.6304 - val_loss: 0.6074 - val_accuracy: 0.6770\n",
            "Epoch 146/400\n",
            "23/23 [==============================] - 0s 5ms/step - loss: 0.6198 - accuracy: 0.6377 - val_loss: 0.6069 - val_accuracy: 0.6770\n",
            "Epoch 147/400\n",
            "23/23 [==============================] - 0s 6ms/step - loss: 0.6198 - accuracy: 0.6377 - val_loss: 0.6065 - val_accuracy: 0.6801\n",
            "Epoch 148/400\n",
            "23/23 [==============================] - 0s 9ms/step - loss: 0.6192 - accuracy: 0.6449 - val_loss: 0.6060 - val_accuracy: 0.6801\n",
            "Epoch 149/400\n",
            "23/23 [==============================] - 0s 6ms/step - loss: 0.6187 - accuracy: 0.6377 - val_loss: 0.6056 - val_accuracy: 0.6832\n",
            "Epoch 150/400\n",
            "23/23 [==============================] - 0s 5ms/step - loss: 0.6182 - accuracy: 0.6377 - val_loss: 0.6053 - val_accuracy: 0.6801\n",
            "Epoch 151/400\n",
            "23/23 [==============================] - 0s 6ms/step - loss: 0.6176 - accuracy: 0.6522 - val_loss: 0.6048 - val_accuracy: 0.6801\n",
            "Epoch 152/400\n",
            "23/23 [==============================] - 0s 5ms/step - loss: 0.6172 - accuracy: 0.6449 - val_loss: 0.6045 - val_accuracy: 0.6801\n",
            "Epoch 153/400\n",
            "23/23 [==============================] - 0s 5ms/step - loss: 0.6166 - accuracy: 0.6522 - val_loss: 0.6041 - val_accuracy: 0.6770\n",
            "Epoch 154/400\n",
            "23/23 [==============================] - 0s 5ms/step - loss: 0.6166 - accuracy: 0.6377 - val_loss: 0.6037 - val_accuracy: 0.6801\n",
            "Epoch 155/400\n",
            "23/23 [==============================] - 0s 5ms/step - loss: 0.6161 - accuracy: 0.6377 - val_loss: 0.6033 - val_accuracy: 0.6801\n",
            "Epoch 156/400\n",
            "23/23 [==============================] - 0s 6ms/step - loss: 0.6158 - accuracy: 0.6522 - val_loss: 0.6029 - val_accuracy: 0.6801\n",
            "Epoch 157/400\n",
            "23/23 [==============================] - 0s 9ms/step - loss: 0.6151 - accuracy: 0.6522 - val_loss: 0.6025 - val_accuracy: 0.6801\n",
            "Epoch 158/400\n",
            "23/23 [==============================] - 0s 5ms/step - loss: 0.6147 - accuracy: 0.6449 - val_loss: 0.6022 - val_accuracy: 0.6832\n",
            "Epoch 159/400\n",
            "23/23 [==============================] - 0s 9ms/step - loss: 0.6143 - accuracy: 0.6522 - val_loss: 0.6019 - val_accuracy: 0.6832\n",
            "Epoch 160/400\n",
            "23/23 [==============================] - 0s 6ms/step - loss: 0.6138 - accuracy: 0.6377 - val_loss: 0.6014 - val_accuracy: 0.6832\n",
            "Epoch 161/400\n",
            "23/23 [==============================] - 0s 6ms/step - loss: 0.6135 - accuracy: 0.6449 - val_loss: 0.6010 - val_accuracy: 0.6832\n",
            "Epoch 162/400\n",
            "23/23 [==============================] - 0s 9ms/step - loss: 0.6129 - accuracy: 0.6522 - val_loss: 0.6006 - val_accuracy: 0.6832\n",
            "Epoch 163/400\n",
            "23/23 [==============================] - 0s 5ms/step - loss: 0.6126 - accuracy: 0.6449 - val_loss: 0.6003 - val_accuracy: 0.6832\n",
            "Epoch 164/400\n",
            "23/23 [==============================] - 0s 9ms/step - loss: 0.6121 - accuracy: 0.6594 - val_loss: 0.5999 - val_accuracy: 0.6801\n",
            "Epoch 165/400\n",
            "23/23 [==============================] - 0s 5ms/step - loss: 0.6115 - accuracy: 0.6594 - val_loss: 0.5995 - val_accuracy: 0.6801\n",
            "Epoch 166/400\n",
            "23/23 [==============================] - 0s 5ms/step - loss: 0.6115 - accuracy: 0.6449 - val_loss: 0.5991 - val_accuracy: 0.6832\n",
            "Epoch 167/400\n",
            "23/23 [==============================] - 0s 9ms/step - loss: 0.6108 - accuracy: 0.6522 - val_loss: 0.5987 - val_accuracy: 0.6832\n",
            "Epoch 168/400\n",
            "23/23 [==============================] - 0s 6ms/step - loss: 0.6106 - accuracy: 0.6449 - val_loss: 0.5983 - val_accuracy: 0.6832\n",
            "Epoch 169/400\n",
            "23/23 [==============================] - 0s 5ms/step - loss: 0.6100 - accuracy: 0.6449 - val_loss: 0.5980 - val_accuracy: 0.6894\n",
            "Epoch 170/400\n",
            "23/23 [==============================] - 0s 6ms/step - loss: 0.6098 - accuracy: 0.6522 - val_loss: 0.5976 - val_accuracy: 0.6894\n",
            "Epoch 171/400\n",
            "23/23 [==============================] - 0s 5ms/step - loss: 0.6091 - accuracy: 0.6594 - val_loss: 0.5973 - val_accuracy: 0.6894\n",
            "Epoch 172/400\n",
            "23/23 [==============================] - 0s 9ms/step - loss: 0.6087 - accuracy: 0.6449 - val_loss: 0.5969 - val_accuracy: 0.6863\n",
            "Epoch 173/400\n",
            "23/23 [==============================] - 0s 5ms/step - loss: 0.6083 - accuracy: 0.6522 - val_loss: 0.5965 - val_accuracy: 0.6832\n",
            "Epoch 174/400\n",
            "23/23 [==============================] - 0s 9ms/step - loss: 0.6081 - accuracy: 0.6522 - val_loss: 0.5962 - val_accuracy: 0.6832\n",
            "Epoch 175/400\n",
            "23/23 [==============================] - 0s 5ms/step - loss: 0.6075 - accuracy: 0.6667 - val_loss: 0.5958 - val_accuracy: 0.6832\n",
            "Epoch 176/400\n",
            "23/23 [==============================] - 0s 5ms/step - loss: 0.6075 - accuracy: 0.6739 - val_loss: 0.5954 - val_accuracy: 0.6832\n",
            "Epoch 177/400\n",
            "23/23 [==============================] - 0s 5ms/step - loss: 0.6067 - accuracy: 0.6667 - val_loss: 0.5951 - val_accuracy: 0.6832\n",
            "Epoch 178/400\n",
            "23/23 [==============================] - 0s 9ms/step - loss: 0.6065 - accuracy: 0.6667 - val_loss: 0.5946 - val_accuracy: 0.6832\n",
            "Epoch 179/400\n",
            "23/23 [==============================] - 0s 9ms/step - loss: 0.6055 - accuracy: 0.6594 - val_loss: 0.5942 - val_accuracy: 0.6832\n",
            "Epoch 180/400\n",
            "23/23 [==============================] - 0s 6ms/step - loss: 0.6055 - accuracy: 0.6739 - val_loss: 0.5938 - val_accuracy: 0.6832\n",
            "Epoch 181/400\n",
            "23/23 [==============================] - 0s 6ms/step - loss: 0.6050 - accuracy: 0.6739 - val_loss: 0.5933 - val_accuracy: 0.6832\n",
            "Epoch 182/400\n",
            "23/23 [==============================] - 0s 9ms/step - loss: 0.6045 - accuracy: 0.6667 - val_loss: 0.5929 - val_accuracy: 0.6832\n",
            "Epoch 183/400\n",
            "23/23 [==============================] - 0s 9ms/step - loss: 0.6041 - accuracy: 0.6884 - val_loss: 0.5924 - val_accuracy: 0.6832\n",
            "Epoch 184/400\n",
            "23/23 [==============================] - 0s 6ms/step - loss: 0.6035 - accuracy: 0.6667 - val_loss: 0.5922 - val_accuracy: 0.6832\n",
            "Epoch 185/400\n",
            "23/23 [==============================] - 0s 5ms/step - loss: 0.6039 - accuracy: 0.6667 - val_loss: 0.5919 - val_accuracy: 0.6832\n",
            "Epoch 186/400\n",
            "23/23 [==============================] - 0s 6ms/step - loss: 0.6028 - accuracy: 0.6739 - val_loss: 0.5915 - val_accuracy: 0.6863\n",
            "Epoch 187/400\n",
            "23/23 [==============================] - 0s 5ms/step - loss: 0.6024 - accuracy: 0.6594 - val_loss: 0.5913 - val_accuracy: 0.6894\n",
            "Epoch 188/400\n",
            "23/23 [==============================] - 0s 5ms/step - loss: 0.6019 - accuracy: 0.6812 - val_loss: 0.5909 - val_accuracy: 0.6894\n",
            "Epoch 189/400\n",
            "23/23 [==============================] - 0s 5ms/step - loss: 0.6015 - accuracy: 0.6884 - val_loss: 0.5905 - val_accuracy: 0.6894\n",
            "Epoch 190/400\n",
            "23/23 [==============================] - 0s 5ms/step - loss: 0.6015 - accuracy: 0.6957 - val_loss: 0.5900 - val_accuracy: 0.6925\n",
            "Epoch 191/400\n",
            "23/23 [==============================] - 0s 6ms/step - loss: 0.6011 - accuracy: 0.6957 - val_loss: 0.5897 - val_accuracy: 0.6925\n",
            "Epoch 192/400\n",
            "23/23 [==============================] - 0s 6ms/step - loss: 0.6002 - accuracy: 0.6884 - val_loss: 0.5894 - val_accuracy: 0.6925\n",
            "Epoch 193/400\n",
            "23/23 [==============================] - 0s 6ms/step - loss: 0.6000 - accuracy: 0.7101 - val_loss: 0.5890 - val_accuracy: 0.6925\n",
            "Epoch 194/400\n",
            "23/23 [==============================] - 0s 5ms/step - loss: 0.5994 - accuracy: 0.6957 - val_loss: 0.5886 - val_accuracy: 0.6925\n",
            "Epoch 195/400\n",
            "23/23 [==============================] - 0s 9ms/step - loss: 0.5992 - accuracy: 0.6884 - val_loss: 0.5883 - val_accuracy: 0.6894\n",
            "Epoch 196/400\n",
            "23/23 [==============================] - 0s 5ms/step - loss: 0.5988 - accuracy: 0.7029 - val_loss: 0.5878 - val_accuracy: 0.6894\n",
            "Epoch 197/400\n",
            "23/23 [==============================] - 0s 6ms/step - loss: 0.5981 - accuracy: 0.7101 - val_loss: 0.5874 - val_accuracy: 0.6894\n",
            "Epoch 198/400\n",
            "23/23 [==============================] - 0s 5ms/step - loss: 0.5983 - accuracy: 0.6957 - val_loss: 0.5871 - val_accuracy: 0.6957\n",
            "Epoch 199/400\n",
            "23/23 [==============================] - 0s 5ms/step - loss: 0.5975 - accuracy: 0.7174 - val_loss: 0.5867 - val_accuracy: 0.6957\n",
            "Epoch 200/400\n",
            "23/23 [==============================] - 0s 5ms/step - loss: 0.5973 - accuracy: 0.7101 - val_loss: 0.5862 - val_accuracy: 0.6957\n",
            "Epoch 201/400\n",
            "23/23 [==============================] - 0s 6ms/step - loss: 0.5966 - accuracy: 0.6957 - val_loss: 0.5860 - val_accuracy: 0.6957\n",
            "Epoch 202/400\n",
            "23/23 [==============================] - 0s 6ms/step - loss: 0.5964 - accuracy: 0.7101 - val_loss: 0.5856 - val_accuracy: 0.6925\n",
            "Epoch 203/400\n",
            "23/23 [==============================] - 0s 5ms/step - loss: 0.5960 - accuracy: 0.7101 - val_loss: 0.5851 - val_accuracy: 0.6957\n",
            "Epoch 204/400\n",
            "23/23 [==============================] - 0s 6ms/step - loss: 0.5957 - accuracy: 0.7246 - val_loss: 0.5849 - val_accuracy: 0.6957\n",
            "Epoch 205/400\n",
            "23/23 [==============================] - 0s 5ms/step - loss: 0.5950 - accuracy: 0.7101 - val_loss: 0.5845 - val_accuracy: 0.6957\n",
            "Epoch 206/400\n",
            "23/23 [==============================] - 0s 5ms/step - loss: 0.5949 - accuracy: 0.7101 - val_loss: 0.5841 - val_accuracy: 0.6957\n",
            "Epoch 207/400\n",
            "23/23 [==============================] - 0s 5ms/step - loss: 0.5945 - accuracy: 0.7101 - val_loss: 0.5837 - val_accuracy: 0.6957\n",
            "Epoch 208/400\n",
            "23/23 [==============================] - 0s 6ms/step - loss: 0.5941 - accuracy: 0.7174 - val_loss: 0.5832 - val_accuracy: 0.6957\n",
            "Epoch 209/400\n",
            "23/23 [==============================] - 0s 5ms/step - loss: 0.5936 - accuracy: 0.7101 - val_loss: 0.5829 - val_accuracy: 0.6957\n",
            "Epoch 210/400\n",
            "23/23 [==============================] - 0s 6ms/step - loss: 0.5932 - accuracy: 0.7101 - val_loss: 0.5826 - val_accuracy: 0.7019\n",
            "Epoch 211/400\n",
            "23/23 [==============================] - 0s 5ms/step - loss: 0.5927 - accuracy: 0.7101 - val_loss: 0.5823 - val_accuracy: 0.7019\n",
            "Epoch 212/400\n",
            "23/23 [==============================] - 0s 6ms/step - loss: 0.5926 - accuracy: 0.7101 - val_loss: 0.5819 - val_accuracy: 0.7019\n",
            "Epoch 213/400\n",
            "23/23 [==============================] - 0s 5ms/step - loss: 0.5920 - accuracy: 0.7101 - val_loss: 0.5815 - val_accuracy: 0.7050\n",
            "Epoch 214/400\n",
            "23/23 [==============================] - 0s 6ms/step - loss: 0.5915 - accuracy: 0.7101 - val_loss: 0.5810 - val_accuracy: 0.7050\n",
            "Epoch 215/400\n",
            "23/23 [==============================] - 0s 5ms/step - loss: 0.5913 - accuracy: 0.7101 - val_loss: 0.5806 - val_accuracy: 0.7050\n",
            "Epoch 216/400\n",
            "23/23 [==============================] - 0s 9ms/step - loss: 0.5908 - accuracy: 0.7029 - val_loss: 0.5803 - val_accuracy: 0.7050\n",
            "Epoch 217/400\n",
            "23/23 [==============================] - 0s 6ms/step - loss: 0.5908 - accuracy: 0.7174 - val_loss: 0.5798 - val_accuracy: 0.7050\n",
            "Epoch 218/400\n",
            "23/23 [==============================] - 0s 5ms/step - loss: 0.5901 - accuracy: 0.7174 - val_loss: 0.5795 - val_accuracy: 0.7050\n",
            "Epoch 219/400\n",
            "23/23 [==============================] - 0s 5ms/step - loss: 0.5895 - accuracy: 0.7029 - val_loss: 0.5791 - val_accuracy: 0.7081\n",
            "Epoch 220/400\n",
            "23/23 [==============================] - 0s 5ms/step - loss: 0.5896 - accuracy: 0.7101 - val_loss: 0.5788 - val_accuracy: 0.7019\n",
            "Epoch 221/400\n",
            "23/23 [==============================] - 0s 5ms/step - loss: 0.5885 - accuracy: 0.7174 - val_loss: 0.5784 - val_accuracy: 0.7019\n",
            "Epoch 222/400\n",
            "23/23 [==============================] - 0s 5ms/step - loss: 0.5882 - accuracy: 0.7174 - val_loss: 0.5780 - val_accuracy: 0.7019\n",
            "Epoch 223/400\n",
            "23/23 [==============================] - 0s 5ms/step - loss: 0.5880 - accuracy: 0.7174 - val_loss: 0.5776 - val_accuracy: 0.7019\n",
            "Epoch 224/400\n",
            "23/23 [==============================] - 0s 6ms/step - loss: 0.5875 - accuracy: 0.7174 - val_loss: 0.5773 - val_accuracy: 0.7019\n",
            "Epoch 225/400\n",
            "23/23 [==============================] - 0s 10ms/step - loss: 0.5874 - accuracy: 0.7174 - val_loss: 0.5769 - val_accuracy: 0.7019\n",
            "Epoch 226/400\n",
            "23/23 [==============================] - 0s 5ms/step - loss: 0.5867 - accuracy: 0.7174 - val_loss: 0.5766 - val_accuracy: 0.7019\n",
            "Epoch 227/400\n",
            "23/23 [==============================] - 0s 5ms/step - loss: 0.5863 - accuracy: 0.7174 - val_loss: 0.5762 - val_accuracy: 0.7050\n",
            "Epoch 228/400\n",
            "23/23 [==============================] - 0s 9ms/step - loss: 0.5862 - accuracy: 0.7174 - val_loss: 0.5758 - val_accuracy: 0.7050\n",
            "Epoch 229/400\n",
            "23/23 [==============================] - 0s 9ms/step - loss: 0.5853 - accuracy: 0.7101 - val_loss: 0.5755 - val_accuracy: 0.7112\n",
            "Epoch 230/400\n",
            "23/23 [==============================] - 0s 5ms/step - loss: 0.5853 - accuracy: 0.7174 - val_loss: 0.5751 - val_accuracy: 0.7112\n",
            "Epoch 231/400\n",
            "23/23 [==============================] - 0s 7ms/step - loss: 0.5846 - accuracy: 0.7174 - val_loss: 0.5746 - val_accuracy: 0.7112\n",
            "Epoch 232/400\n",
            "23/23 [==============================] - 0s 5ms/step - loss: 0.5848 - accuracy: 0.7174 - val_loss: 0.5743 - val_accuracy: 0.7112\n",
            "Epoch 233/400\n",
            "23/23 [==============================] - 0s 5ms/step - loss: 0.5838 - accuracy: 0.7101 - val_loss: 0.5738 - val_accuracy: 0.7112\n",
            "Epoch 234/400\n",
            "23/23 [==============================] - 0s 5ms/step - loss: 0.5835 - accuracy: 0.7174 - val_loss: 0.5735 - val_accuracy: 0.7112\n",
            "Epoch 235/400\n",
            "23/23 [==============================] - 0s 6ms/step - loss: 0.5832 - accuracy: 0.7101 - val_loss: 0.5732 - val_accuracy: 0.7143\n",
            "Epoch 236/400\n",
            "23/23 [==============================] - 0s 5ms/step - loss: 0.5830 - accuracy: 0.7101 - val_loss: 0.5728 - val_accuracy: 0.7112\n",
            "Epoch 237/400\n",
            "23/23 [==============================] - 0s 5ms/step - loss: 0.5827 - accuracy: 0.7174 - val_loss: 0.5726 - val_accuracy: 0.7112\n",
            "Epoch 238/400\n",
            "23/23 [==============================] - 0s 6ms/step - loss: 0.5825 - accuracy: 0.7101 - val_loss: 0.5723 - val_accuracy: 0.7112\n",
            "Epoch 239/400\n",
            "23/23 [==============================] - 0s 5ms/step - loss: 0.5816 - accuracy: 0.7246 - val_loss: 0.5718 - val_accuracy: 0.7112\n",
            "Epoch 240/400\n",
            "23/23 [==============================] - 0s 6ms/step - loss: 0.5810 - accuracy: 0.7174 - val_loss: 0.5713 - val_accuracy: 0.7112\n",
            "Epoch 241/400\n",
            "23/23 [==============================] - 0s 5ms/step - loss: 0.5808 - accuracy: 0.7174 - val_loss: 0.5709 - val_accuracy: 0.7112\n",
            "Epoch 242/400\n",
            "23/23 [==============================] - 0s 5ms/step - loss: 0.5806 - accuracy: 0.7174 - val_loss: 0.5705 - val_accuracy: 0.7112\n",
            "Epoch 243/400\n",
            "23/23 [==============================] - 0s 5ms/step - loss: 0.5801 - accuracy: 0.7174 - val_loss: 0.5702 - val_accuracy: 0.7112\n",
            "Epoch 244/400\n",
            "23/23 [==============================] - 0s 5ms/step - loss: 0.5793 - accuracy: 0.7174 - val_loss: 0.5698 - val_accuracy: 0.7112\n",
            "Epoch 245/400\n",
            "23/23 [==============================] - 0s 5ms/step - loss: 0.5795 - accuracy: 0.7101 - val_loss: 0.5693 - val_accuracy: 0.7112\n",
            "Epoch 246/400\n",
            "23/23 [==============================] - 0s 6ms/step - loss: 0.5790 - accuracy: 0.7246 - val_loss: 0.5690 - val_accuracy: 0.7112\n",
            "Epoch 247/400\n",
            "23/23 [==============================] - 0s 5ms/step - loss: 0.5785 - accuracy: 0.7174 - val_loss: 0.5688 - val_accuracy: 0.7112\n",
            "Epoch 248/400\n",
            "23/23 [==============================] - 0s 5ms/step - loss: 0.5784 - accuracy: 0.7246 - val_loss: 0.5684 - val_accuracy: 0.7112\n",
            "Epoch 249/400\n",
            "23/23 [==============================] - 0s 5ms/step - loss: 0.5778 - accuracy: 0.7174 - val_loss: 0.5680 - val_accuracy: 0.7112\n",
            "Epoch 250/400\n",
            "23/23 [==============================] - 0s 5ms/step - loss: 0.5775 - accuracy: 0.7174 - val_loss: 0.5678 - val_accuracy: 0.7112\n",
            "Epoch 251/400\n",
            "23/23 [==============================] - 0s 5ms/step - loss: 0.5768 - accuracy: 0.7174 - val_loss: 0.5675 - val_accuracy: 0.7143\n",
            "Epoch 252/400\n",
            "23/23 [==============================] - 0s 9ms/step - loss: 0.5767 - accuracy: 0.7101 - val_loss: 0.5669 - val_accuracy: 0.7112\n",
            "Epoch 253/400\n",
            "23/23 [==============================] - 0s 6ms/step - loss: 0.5760 - accuracy: 0.7174 - val_loss: 0.5665 - val_accuracy: 0.7112\n",
            "Epoch 254/400\n",
            "23/23 [==============================] - 0s 9ms/step - loss: 0.5761 - accuracy: 0.7174 - val_loss: 0.5662 - val_accuracy: 0.7143\n",
            "Epoch 255/400\n",
            "23/23 [==============================] - 0s 5ms/step - loss: 0.5754 - accuracy: 0.7246 - val_loss: 0.5658 - val_accuracy: 0.7143\n",
            "Epoch 256/400\n",
            "23/23 [==============================] - 0s 5ms/step - loss: 0.5750 - accuracy: 0.7101 - val_loss: 0.5654 - val_accuracy: 0.7143\n",
            "Epoch 257/400\n",
            "23/23 [==============================] - 0s 5ms/step - loss: 0.5745 - accuracy: 0.7101 - val_loss: 0.5650 - val_accuracy: 0.7143\n",
            "Epoch 258/400\n",
            "23/23 [==============================] - 0s 5ms/step - loss: 0.5745 - accuracy: 0.7174 - val_loss: 0.5647 - val_accuracy: 0.7112\n",
            "Epoch 259/400\n",
            "23/23 [==============================] - 0s 5ms/step - loss: 0.5741 - accuracy: 0.7174 - val_loss: 0.5643 - val_accuracy: 0.7112\n",
            "Epoch 260/400\n",
            "23/23 [==============================] - 0s 5ms/step - loss: 0.5738 - accuracy: 0.7174 - val_loss: 0.5641 - val_accuracy: 0.7174\n",
            "Epoch 261/400\n",
            "23/23 [==============================] - 0s 5ms/step - loss: 0.5734 - accuracy: 0.7101 - val_loss: 0.5636 - val_accuracy: 0.7143\n",
            "Epoch 262/400\n",
            "23/23 [==============================] - 0s 5ms/step - loss: 0.5727 - accuracy: 0.7246 - val_loss: 0.5632 - val_accuracy: 0.7174\n",
            "Epoch 263/400\n",
            "23/23 [==============================] - 0s 5ms/step - loss: 0.5727 - accuracy: 0.7101 - val_loss: 0.5628 - val_accuracy: 0.7174\n",
            "Epoch 264/400\n",
            "23/23 [==============================] - 0s 5ms/step - loss: 0.5722 - accuracy: 0.7174 - val_loss: 0.5625 - val_accuracy: 0.7174\n",
            "Epoch 265/400\n",
            "23/23 [==============================] - 0s 5ms/step - loss: 0.5719 - accuracy: 0.7101 - val_loss: 0.5622 - val_accuracy: 0.7174\n",
            "Epoch 266/400\n",
            "23/23 [==============================] - 0s 5ms/step - loss: 0.5717 - accuracy: 0.7101 - val_loss: 0.5618 - val_accuracy: 0.7205\n",
            "Epoch 267/400\n",
            "23/23 [==============================] - 0s 5ms/step - loss: 0.5712 - accuracy: 0.7174 - val_loss: 0.5614 - val_accuracy: 0.7205\n",
            "Epoch 268/400\n",
            "23/23 [==============================] - 0s 5ms/step - loss: 0.5706 - accuracy: 0.7101 - val_loss: 0.5610 - val_accuracy: 0.7205\n",
            "Epoch 269/400\n",
            "23/23 [==============================] - 0s 9ms/step - loss: 0.5704 - accuracy: 0.7174 - val_loss: 0.5607 - val_accuracy: 0.7205\n",
            "Epoch 270/400\n",
            "23/23 [==============================] - 0s 5ms/step - loss: 0.5699 - accuracy: 0.7174 - val_loss: 0.5603 - val_accuracy: 0.7205\n",
            "Epoch 271/400\n",
            "23/23 [==============================] - 0s 5ms/step - loss: 0.5693 - accuracy: 0.7101 - val_loss: 0.5598 - val_accuracy: 0.7205\n",
            "Epoch 272/400\n",
            "23/23 [==============================] - 0s 5ms/step - loss: 0.5693 - accuracy: 0.7174 - val_loss: 0.5596 - val_accuracy: 0.7174\n",
            "Epoch 273/400\n",
            "23/23 [==============================] - 0s 5ms/step - loss: 0.5688 - accuracy: 0.7174 - val_loss: 0.5594 - val_accuracy: 0.7236\n",
            "Epoch 274/400\n",
            "23/23 [==============================] - 0s 5ms/step - loss: 0.5682 - accuracy: 0.7174 - val_loss: 0.5590 - val_accuracy: 0.7236\n",
            "Epoch 275/400\n",
            "23/23 [==============================] - 0s 5ms/step - loss: 0.5682 - accuracy: 0.7174 - val_loss: 0.5585 - val_accuracy: 0.7205\n",
            "Epoch 276/400\n",
            "23/23 [==============================] - 0s 6ms/step - loss: 0.5678 - accuracy: 0.7174 - val_loss: 0.5581 - val_accuracy: 0.7205\n",
            "Epoch 277/400\n",
            "23/23 [==============================] - 0s 5ms/step - loss: 0.5671 - accuracy: 0.7174 - val_loss: 0.5578 - val_accuracy: 0.7236\n",
            "Epoch 278/400\n",
            "23/23 [==============================] - 0s 5ms/step - loss: 0.5671 - accuracy: 0.7246 - val_loss: 0.5574 - val_accuracy: 0.7236\n",
            "Epoch 279/400\n",
            "23/23 [==============================] - 0s 5ms/step - loss: 0.5663 - accuracy: 0.7246 - val_loss: 0.5570 - val_accuracy: 0.7236\n",
            "Epoch 280/400\n",
            "23/23 [==============================] - 0s 5ms/step - loss: 0.5658 - accuracy: 0.7246 - val_loss: 0.5566 - val_accuracy: 0.7236\n",
            "Epoch 281/400\n",
            "23/23 [==============================] - 0s 5ms/step - loss: 0.5659 - accuracy: 0.7246 - val_loss: 0.5562 - val_accuracy: 0.7236\n",
            "Epoch 282/400\n",
            "23/23 [==============================] - 0s 5ms/step - loss: 0.5654 - accuracy: 0.7246 - val_loss: 0.5558 - val_accuracy: 0.7236\n",
            "Epoch 283/400\n",
            "23/23 [==============================] - 0s 9ms/step - loss: 0.5648 - accuracy: 0.7246 - val_loss: 0.5555 - val_accuracy: 0.7236\n",
            "Epoch 284/400\n",
            "23/23 [==============================] - 0s 5ms/step - loss: 0.5650 - accuracy: 0.7246 - val_loss: 0.5550 - val_accuracy: 0.7236\n",
            "Epoch 285/400\n",
            "23/23 [==============================] - 0s 6ms/step - loss: 0.5642 - accuracy: 0.7174 - val_loss: 0.5547 - val_accuracy: 0.7236\n",
            "Epoch 286/400\n",
            "23/23 [==============================] - 0s 6ms/step - loss: 0.5641 - accuracy: 0.7246 - val_loss: 0.5545 - val_accuracy: 0.7267\n",
            "Epoch 287/400\n",
            "23/23 [==============================] - 0s 5ms/step - loss: 0.5635 - accuracy: 0.7246 - val_loss: 0.5541 - val_accuracy: 0.7267\n",
            "Epoch 288/400\n",
            "23/23 [==============================] - 0s 5ms/step - loss: 0.5631 - accuracy: 0.7246 - val_loss: 0.5535 - val_accuracy: 0.7267\n",
            "Epoch 289/400\n",
            "23/23 [==============================] - 0s 5ms/step - loss: 0.5628 - accuracy: 0.7246 - val_loss: 0.5534 - val_accuracy: 0.7298\n",
            "Epoch 290/400\n",
            "23/23 [==============================] - 0s 5ms/step - loss: 0.5623 - accuracy: 0.7319 - val_loss: 0.5532 - val_accuracy: 0.7360\n",
            "Epoch 291/400\n",
            "23/23 [==============================] - 0s 6ms/step - loss: 0.5623 - accuracy: 0.7246 - val_loss: 0.5527 - val_accuracy: 0.7298\n",
            "Epoch 292/400\n",
            "23/23 [==============================] - 0s 5ms/step - loss: 0.5620 - accuracy: 0.7246 - val_loss: 0.5524 - val_accuracy: 0.7360\n",
            "Epoch 293/400\n",
            "23/23 [==============================] - 0s 5ms/step - loss: 0.5612 - accuracy: 0.7246 - val_loss: 0.5521 - val_accuracy: 0.7360\n",
            "Epoch 294/400\n",
            "23/23 [==============================] - 0s 9ms/step - loss: 0.5610 - accuracy: 0.7246 - val_loss: 0.5519 - val_accuracy: 0.7360\n",
            "Epoch 295/400\n",
            "23/23 [==============================] - 0s 5ms/step - loss: 0.5605 - accuracy: 0.7246 - val_loss: 0.5514 - val_accuracy: 0.7360\n",
            "Epoch 296/400\n",
            "23/23 [==============================] - 0s 5ms/step - loss: 0.5604 - accuracy: 0.7246 - val_loss: 0.5512 - val_accuracy: 0.7360\n",
            "Epoch 297/400\n",
            "23/23 [==============================] - 0s 5ms/step - loss: 0.5601 - accuracy: 0.7319 - val_loss: 0.5508 - val_accuracy: 0.7360\n",
            "Epoch 298/400\n",
            "23/23 [==============================] - 0s 6ms/step - loss: 0.5598 - accuracy: 0.7246 - val_loss: 0.5504 - val_accuracy: 0.7360\n",
            "Epoch 299/400\n",
            "23/23 [==============================] - 0s 6ms/step - loss: 0.5591 - accuracy: 0.7246 - val_loss: 0.5500 - val_accuracy: 0.7360\n",
            "Epoch 300/400\n",
            "23/23 [==============================] - 0s 6ms/step - loss: 0.5585 - accuracy: 0.7246 - val_loss: 0.5498 - val_accuracy: 0.7360\n",
            "Epoch 301/400\n",
            "23/23 [==============================] - 0s 5ms/step - loss: 0.5589 - accuracy: 0.7246 - val_loss: 0.5496 - val_accuracy: 0.7422\n",
            "Epoch 302/400\n",
            "23/23 [==============================] - 0s 5ms/step - loss: 0.5586 - accuracy: 0.7246 - val_loss: 0.5493 - val_accuracy: 0.7484\n",
            "Epoch 303/400\n",
            "23/23 [==============================] - 0s 5ms/step - loss: 0.5576 - accuracy: 0.7246 - val_loss: 0.5490 - val_accuracy: 0.7484\n",
            "Epoch 304/400\n",
            "23/23 [==============================] - 0s 5ms/step - loss: 0.5577 - accuracy: 0.7246 - val_loss: 0.5487 - val_accuracy: 0.7453\n",
            "Epoch 305/400\n",
            "23/23 [==============================] - 0s 5ms/step - loss: 0.5568 - accuracy: 0.7246 - val_loss: 0.5482 - val_accuracy: 0.7484\n",
            "Epoch 306/400\n",
            "23/23 [==============================] - 0s 5ms/step - loss: 0.5565 - accuracy: 0.7246 - val_loss: 0.5479 - val_accuracy: 0.7484\n",
            "Epoch 307/400\n",
            "23/23 [==============================] - 0s 5ms/step - loss: 0.5569 - accuracy: 0.7246 - val_loss: 0.5473 - val_accuracy: 0.7453\n",
            "Epoch 308/400\n",
            "23/23 [==============================] - 0s 5ms/step - loss: 0.5560 - accuracy: 0.7246 - val_loss: 0.5470 - val_accuracy: 0.7484\n",
            "Epoch 309/400\n",
            "23/23 [==============================] - 0s 5ms/step - loss: 0.5558 - accuracy: 0.7246 - val_loss: 0.5466 - val_accuracy: 0.7391\n",
            "Epoch 310/400\n",
            "23/23 [==============================] - 0s 6ms/step - loss: 0.5554 - accuracy: 0.7246 - val_loss: 0.5462 - val_accuracy: 0.7453\n",
            "Epoch 311/400\n",
            "23/23 [==============================] - 0s 5ms/step - loss: 0.5551 - accuracy: 0.7246 - val_loss: 0.5459 - val_accuracy: 0.7453\n",
            "Epoch 312/400\n",
            "23/23 [==============================] - 0s 5ms/step - loss: 0.5546 - accuracy: 0.7319 - val_loss: 0.5457 - val_accuracy: 0.7484\n",
            "Epoch 313/400\n",
            "23/23 [==============================] - 0s 5ms/step - loss: 0.5542 - accuracy: 0.7246 - val_loss: 0.5454 - val_accuracy: 0.7484\n",
            "Epoch 314/400\n",
            "23/23 [==============================] - 0s 6ms/step - loss: 0.5538 - accuracy: 0.7246 - val_loss: 0.5450 - val_accuracy: 0.7516\n",
            "Epoch 315/400\n",
            "23/23 [==============================] - 0s 5ms/step - loss: 0.5538 - accuracy: 0.7246 - val_loss: 0.5448 - val_accuracy: 0.7516\n",
            "Epoch 316/400\n",
            "23/23 [==============================] - 0s 5ms/step - loss: 0.5537 - accuracy: 0.7174 - val_loss: 0.5443 - val_accuracy: 0.7516\n",
            "Epoch 317/400\n",
            "23/23 [==============================] - 0s 5ms/step - loss: 0.5530 - accuracy: 0.7246 - val_loss: 0.5438 - val_accuracy: 0.7516\n",
            "Epoch 318/400\n",
            "23/23 [==============================] - 0s 5ms/step - loss: 0.5527 - accuracy: 0.7246 - val_loss: 0.5434 - val_accuracy: 0.7516\n",
            "Epoch 319/400\n",
            "23/23 [==============================] - 0s 5ms/step - loss: 0.5526 - accuracy: 0.7319 - val_loss: 0.5433 - val_accuracy: 0.7516\n",
            "Epoch 320/400\n",
            "23/23 [==============================] - 0s 5ms/step - loss: 0.5520 - accuracy: 0.7246 - val_loss: 0.5430 - val_accuracy: 0.7547\n",
            "Epoch 321/400\n",
            "23/23 [==============================] - 0s 5ms/step - loss: 0.5518 - accuracy: 0.7174 - val_loss: 0.5425 - val_accuracy: 0.7547\n",
            "Epoch 322/400\n",
            "23/23 [==============================] - 0s 6ms/step - loss: 0.5511 - accuracy: 0.7174 - val_loss: 0.5422 - val_accuracy: 0.7547\n",
            "Epoch 323/400\n",
            "23/23 [==============================] - 0s 6ms/step - loss: 0.5515 - accuracy: 0.7174 - val_loss: 0.5419 - val_accuracy: 0.7516\n",
            "Epoch 324/400\n",
            "23/23 [==============================] - 0s 5ms/step - loss: 0.5508 - accuracy: 0.7246 - val_loss: 0.5417 - val_accuracy: 0.7516\n",
            "Epoch 325/400\n",
            "23/23 [==============================] - 0s 5ms/step - loss: 0.5506 - accuracy: 0.7174 - val_loss: 0.5415 - val_accuracy: 0.7516\n",
            "Epoch 326/400\n",
            "23/23 [==============================] - 0s 5ms/step - loss: 0.5502 - accuracy: 0.7101 - val_loss: 0.5411 - val_accuracy: 0.7516\n",
            "Epoch 327/400\n",
            "23/23 [==============================] - 0s 5ms/step - loss: 0.5497 - accuracy: 0.7174 - val_loss: 0.5407 - val_accuracy: 0.7516\n",
            "Epoch 328/400\n",
            "23/23 [==============================] - 0s 9ms/step - loss: 0.5498 - accuracy: 0.7174 - val_loss: 0.5402 - val_accuracy: 0.7516\n",
            "Epoch 329/400\n",
            "23/23 [==============================] - 0s 6ms/step - loss: 0.5495 - accuracy: 0.7174 - val_loss: 0.5399 - val_accuracy: 0.7516\n",
            "Epoch 330/400\n",
            "23/23 [==============================] - 0s 6ms/step - loss: 0.5487 - accuracy: 0.7246 - val_loss: 0.5398 - val_accuracy: 0.7516\n",
            "Epoch 331/400\n",
            "23/23 [==============================] - 0s 5ms/step - loss: 0.5483 - accuracy: 0.7246 - val_loss: 0.5395 - val_accuracy: 0.7516\n",
            "Epoch 332/400\n",
            "23/23 [==============================] - 0s 5ms/step - loss: 0.5482 - accuracy: 0.7101 - val_loss: 0.5392 - val_accuracy: 0.7516\n",
            "Epoch 333/400\n",
            "23/23 [==============================] - 0s 9ms/step - loss: 0.5478 - accuracy: 0.7101 - val_loss: 0.5389 - val_accuracy: 0.7547\n",
            "Epoch 334/400\n",
            "23/23 [==============================] - 0s 5ms/step - loss: 0.5477 - accuracy: 0.7174 - val_loss: 0.5387 - val_accuracy: 0.7547\n",
            "Epoch 335/400\n",
            "23/23 [==============================] - 0s 5ms/step - loss: 0.5473 - accuracy: 0.7101 - val_loss: 0.5383 - val_accuracy: 0.7547\n",
            "Epoch 336/400\n",
            "23/23 [==============================] - 0s 6ms/step - loss: 0.5468 - accuracy: 0.7174 - val_loss: 0.5380 - val_accuracy: 0.7547\n",
            "Epoch 337/400\n",
            "23/23 [==============================] - 0s 5ms/step - loss: 0.5472 - accuracy: 0.7101 - val_loss: 0.5377 - val_accuracy: 0.7578\n",
            "Epoch 338/400\n",
            "23/23 [==============================] - 0s 5ms/step - loss: 0.5464 - accuracy: 0.7101 - val_loss: 0.5373 - val_accuracy: 0.7578\n",
            "Epoch 339/400\n",
            "23/23 [==============================] - 0s 5ms/step - loss: 0.5459 - accuracy: 0.7174 - val_loss: 0.5368 - val_accuracy: 0.7547\n",
            "Epoch 340/400\n",
            "23/23 [==============================] - 0s 5ms/step - loss: 0.5459 - accuracy: 0.7174 - val_loss: 0.5367 - val_accuracy: 0.7578\n",
            "Epoch 341/400\n",
            "23/23 [==============================] - 0s 5ms/step - loss: 0.5456 - accuracy: 0.7029 - val_loss: 0.5363 - val_accuracy: 0.7578\n",
            "Epoch 342/400\n",
            "23/23 [==============================] - 0s 6ms/step - loss: 0.5449 - accuracy: 0.7101 - val_loss: 0.5359 - val_accuracy: 0.7578\n",
            "Epoch 343/400\n",
            "23/23 [==============================] - 0s 5ms/step - loss: 0.5444 - accuracy: 0.7101 - val_loss: 0.5355 - val_accuracy: 0.7578\n",
            "Epoch 344/400\n",
            "23/23 [==============================] - 0s 15ms/step - loss: 0.5451 - accuracy: 0.7101 - val_loss: 0.5353 - val_accuracy: 0.7578\n",
            "Epoch 345/400\n",
            "23/23 [==============================] - 0s 17ms/step - loss: 0.5440 - accuracy: 0.7101 - val_loss: 0.5346 - val_accuracy: 0.7547\n",
            "Epoch 346/400\n",
            "23/23 [==============================] - 0s 5ms/step - loss: 0.5438 - accuracy: 0.7174 - val_loss: 0.5343 - val_accuracy: 0.7578\n",
            "Epoch 347/400\n",
            "23/23 [==============================] - 0s 9ms/step - loss: 0.5435 - accuracy: 0.7246 - val_loss: 0.5342 - val_accuracy: 0.7578\n",
            "Epoch 348/400\n",
            "23/23 [==============================] - 0s 9ms/step - loss: 0.5430 - accuracy: 0.7101 - val_loss: 0.5338 - val_accuracy: 0.7578\n",
            "Epoch 349/400\n",
            "23/23 [==============================] - 1s 24ms/step - loss: 0.5433 - accuracy: 0.7246 - val_loss: 0.5337 - val_accuracy: 0.7609\n",
            "Epoch 350/400\n",
            "23/23 [==============================] - 0s 5ms/step - loss: 0.5422 - accuracy: 0.7246 - val_loss: 0.5335 - val_accuracy: 0.7609\n",
            "Epoch 351/400\n",
            "23/23 [==============================] - 0s 5ms/step - loss: 0.5422 - accuracy: 0.7174 - val_loss: 0.5332 - val_accuracy: 0.7640\n",
            "Epoch 352/400\n",
            "23/23 [==============================] - 0s 9ms/step - loss: 0.5420 - accuracy: 0.7174 - val_loss: 0.5328 - val_accuracy: 0.7609\n",
            "Epoch 353/400\n",
            "23/23 [==============================] - 1s 24ms/step - loss: 0.5419 - accuracy: 0.7174 - val_loss: 0.5325 - val_accuracy: 0.7609\n",
            "Epoch 354/400\n",
            "23/23 [==============================] - 0s 7ms/step - loss: 0.5414 - accuracy: 0.7101 - val_loss: 0.5321 - val_accuracy: 0.7609\n",
            "Epoch 355/400\n",
            "23/23 [==============================] - 0s 6ms/step - loss: 0.5414 - accuracy: 0.7101 - val_loss: 0.5315 - val_accuracy: 0.7609\n",
            "Epoch 356/400\n",
            "23/23 [==============================] - 0s 5ms/step - loss: 0.5411 - accuracy: 0.7174 - val_loss: 0.5312 - val_accuracy: 0.7609\n",
            "Epoch 357/400\n",
            "23/23 [==============================] - 0s 5ms/step - loss: 0.5402 - accuracy: 0.7174 - val_loss: 0.5311 - val_accuracy: 0.7609\n",
            "Epoch 358/400\n",
            "23/23 [==============================] - 0s 5ms/step - loss: 0.5403 - accuracy: 0.7174 - val_loss: 0.5307 - val_accuracy: 0.7609\n",
            "Epoch 359/400\n",
            "23/23 [==============================] - 0s 5ms/step - loss: 0.5399 - accuracy: 0.7101 - val_loss: 0.5303 - val_accuracy: 0.7609\n",
            "Epoch 360/400\n",
            "23/23 [==============================] - 0s 5ms/step - loss: 0.5397 - accuracy: 0.7174 - val_loss: 0.5302 - val_accuracy: 0.7609\n",
            "Epoch 361/400\n",
            "23/23 [==============================] - 0s 5ms/step - loss: 0.5395 - accuracy: 0.7246 - val_loss: 0.5300 - val_accuracy: 0.7640\n",
            "Epoch 362/400\n",
            "23/23 [==============================] - 0s 5ms/step - loss: 0.5391 - accuracy: 0.7174 - val_loss: 0.5296 - val_accuracy: 0.7609\n",
            "Epoch 363/400\n",
            "23/23 [==============================] - 0s 5ms/step - loss: 0.5388 - accuracy: 0.7101 - val_loss: 0.5294 - val_accuracy: 0.7640\n",
            "Epoch 364/400\n",
            "23/23 [==============================] - 0s 6ms/step - loss: 0.5383 - accuracy: 0.7101 - val_loss: 0.5288 - val_accuracy: 0.7609\n",
            "Epoch 365/400\n",
            "23/23 [==============================] - 0s 5ms/step - loss: 0.5383 - accuracy: 0.7246 - val_loss: 0.5288 - val_accuracy: 0.7640\n",
            "Epoch 366/400\n",
            "23/23 [==============================] - 0s 5ms/step - loss: 0.5379 - accuracy: 0.7101 - val_loss: 0.5283 - val_accuracy: 0.7609\n",
            "Epoch 367/400\n",
            "23/23 [==============================] - 0s 6ms/step - loss: 0.5375 - accuracy: 0.7174 - val_loss: 0.5281 - val_accuracy: 0.7609\n",
            "Epoch 368/400\n",
            "23/23 [==============================] - 0s 5ms/step - loss: 0.5372 - accuracy: 0.7101 - val_loss: 0.5278 - val_accuracy: 0.7609\n",
            "Epoch 369/400\n",
            "23/23 [==============================] - 0s 5ms/step - loss: 0.5372 - accuracy: 0.7174 - val_loss: 0.5276 - val_accuracy: 0.7640\n",
            "Epoch 370/400\n",
            "23/23 [==============================] - 0s 5ms/step - loss: 0.5366 - accuracy: 0.7101 - val_loss: 0.5272 - val_accuracy: 0.7640\n",
            "Epoch 371/400\n",
            "23/23 [==============================] - 0s 5ms/step - loss: 0.5370 - accuracy: 0.7101 - val_loss: 0.5271 - val_accuracy: 0.7671\n",
            "Epoch 372/400\n",
            "23/23 [==============================] - 0s 6ms/step - loss: 0.5358 - accuracy: 0.7174 - val_loss: 0.5270 - val_accuracy: 0.7640\n",
            "Epoch 373/400\n",
            "23/23 [==============================] - 0s 5ms/step - loss: 0.5361 - accuracy: 0.7174 - val_loss: 0.5270 - val_accuracy: 0.7609\n",
            "Epoch 374/400\n",
            "23/23 [==============================] - 0s 5ms/step - loss: 0.5361 - accuracy: 0.7101 - val_loss: 0.5267 - val_accuracy: 0.7609\n",
            "Epoch 375/400\n",
            "23/23 [==============================] - 0s 5ms/step - loss: 0.5354 - accuracy: 0.7101 - val_loss: 0.5261 - val_accuracy: 0.7640\n",
            "Epoch 376/400\n",
            "23/23 [==============================] - 0s 5ms/step - loss: 0.5350 - accuracy: 0.7174 - val_loss: 0.5261 - val_accuracy: 0.7609\n",
            "Epoch 377/400\n",
            "23/23 [==============================] - 0s 5ms/step - loss: 0.5350 - accuracy: 0.7101 - val_loss: 0.5255 - val_accuracy: 0.7640\n",
            "Epoch 378/400\n",
            "23/23 [==============================] - 0s 6ms/step - loss: 0.5347 - accuracy: 0.7101 - val_loss: 0.5252 - val_accuracy: 0.7609\n",
            "Epoch 379/400\n",
            "23/23 [==============================] - 0s 9ms/step - loss: 0.5342 - accuracy: 0.7101 - val_loss: 0.5250 - val_accuracy: 0.7609\n",
            "Epoch 380/400\n",
            "23/23 [==============================] - 0s 5ms/step - loss: 0.5344 - accuracy: 0.7101 - val_loss: 0.5247 - val_accuracy: 0.7609\n",
            "Epoch 381/400\n",
            "23/23 [==============================] - 0s 5ms/step - loss: 0.5336 - accuracy: 0.7101 - val_loss: 0.5245 - val_accuracy: 0.7609\n",
            "Epoch 382/400\n",
            "23/23 [==============================] - 0s 5ms/step - loss: 0.5336 - accuracy: 0.7246 - val_loss: 0.5248 - val_accuracy: 0.7609\n",
            "Epoch 383/400\n",
            "23/23 [==============================] - 0s 6ms/step - loss: 0.5333 - accuracy: 0.7101 - val_loss: 0.5242 - val_accuracy: 0.7609\n",
            "Epoch 384/400\n",
            "23/23 [==============================] - 0s 5ms/step - loss: 0.5326 - accuracy: 0.7101 - val_loss: 0.5236 - val_accuracy: 0.7609\n",
            "Epoch 385/400\n",
            "23/23 [==============================] - 0s 5ms/step - loss: 0.5333 - accuracy: 0.7101 - val_loss: 0.5232 - val_accuracy: 0.7609\n",
            "Epoch 386/400\n",
            "23/23 [==============================] - 0s 9ms/step - loss: 0.5325 - accuracy: 0.7101 - val_loss: 0.5228 - val_accuracy: 0.7640\n",
            "Epoch 387/400\n",
            "23/23 [==============================] - 0s 5ms/step - loss: 0.5324 - accuracy: 0.7174 - val_loss: 0.5226 - val_accuracy: 0.7609\n",
            "Epoch 388/400\n",
            "23/23 [==============================] - 0s 5ms/step - loss: 0.5321 - accuracy: 0.7174 - val_loss: 0.5223 - val_accuracy: 0.7609\n",
            "Epoch 389/400\n",
            "23/23 [==============================] - 0s 5ms/step - loss: 0.5319 - accuracy: 0.7101 - val_loss: 0.5219 - val_accuracy: 0.7640\n",
            "Epoch 390/400\n",
            "23/23 [==============================] - 0s 5ms/step - loss: 0.5312 - accuracy: 0.7101 - val_loss: 0.5215 - val_accuracy: 0.7640\n",
            "Epoch 391/400\n",
            "23/23 [==============================] - 0s 5ms/step - loss: 0.5313 - accuracy: 0.7174 - val_loss: 0.5214 - val_accuracy: 0.7609\n",
            "Epoch 392/400\n",
            "23/23 [==============================] - 0s 5ms/step - loss: 0.5307 - accuracy: 0.7101 - val_loss: 0.5212 - val_accuracy: 0.7609\n",
            "Epoch 393/400\n",
            "23/23 [==============================] - 0s 5ms/step - loss: 0.5313 - accuracy: 0.7101 - val_loss: 0.5209 - val_accuracy: 0.7609\n",
            "Epoch 394/400\n",
            "23/23 [==============================] - 0s 6ms/step - loss: 0.5306 - accuracy: 0.7174 - val_loss: 0.5209 - val_accuracy: 0.7609\n",
            "Epoch 395/400\n",
            "23/23 [==============================] - 0s 5ms/step - loss: 0.5300 - accuracy: 0.7101 - val_loss: 0.5208 - val_accuracy: 0.7609\n",
            "Epoch 396/400\n",
            "23/23 [==============================] - 0s 9ms/step - loss: 0.5296 - accuracy: 0.7101 - val_loss: 0.5204 - val_accuracy: 0.7609\n",
            "Epoch 397/400\n",
            "23/23 [==============================] - 0s 5ms/step - loss: 0.5295 - accuracy: 0.7101 - val_loss: 0.5203 - val_accuracy: 0.7609\n",
            "Epoch 398/400\n",
            "23/23 [==============================] - 0s 5ms/step - loss: 0.5292 - accuracy: 0.7101 - val_loss: 0.5200 - val_accuracy: 0.7609\n",
            "Epoch 399/400\n",
            "23/23 [==============================] - 0s 5ms/step - loss: 0.5288 - accuracy: 0.7101 - val_loss: 0.5196 - val_accuracy: 0.7609\n",
            "Epoch 400/400\n",
            "23/23 [==============================] - 0s 5ms/step - loss: 0.5289 - accuracy: 0.7101 - val_loss: 0.5194 - val_accuracy: 0.7609\n"
          ]
        }
      ]
    },
    {
      "cell_type": "markdown",
      "metadata": {
        "id": "80o1i3fzZsA-"
      },
      "source": [
        "**11. Plot the training loss and accuracy**"
      ]
    },
    {
      "cell_type": "code",
      "source": [
        "import matplotlib.pyplot as plt \n",
        "acc = hist.history['accuracy']\n",
        "val_acc = hist.history['val_accuracy']\n",
        "loss = hist.history['loss']\n",
        "val_loss = hist.history['val_loss']\n",
        " \n",
        "epochs = range(len(acc))\n",
        " \n",
        "plt.plot(epochs, acc, 'b', label='Training acc')\n",
        "plt.plot(epochs, val_acc, 'r', label='Validation acc')\n",
        "plt.title('Training and validation accuracy')\n",
        "plt.legend()\n",
        "plt.savefig('custom_trainvalacc.png')\n",
        "plt.figure()\n",
        " \n",
        "plt.plot(epochs, loss, 'b', label='Training loss')\n",
        "plt.plot(epochs, val_loss, 'r', label='Validation loss')\n",
        "plt.title('Training and validation loss')\n",
        "plt.legend()\n",
        " \n",
        "#plt.show()\n",
        "plt.savefig('custom_trainvalloss.png')\n",
        "plt.figure()"
      ],
      "metadata": {
        "colab": {
          "base_uri": "https://localhost:8080/",
          "height": 580
        },
        "id": "69dOEi6HAiXT",
        "outputId": "1a94724a-e259-49f4-f68c-f802ec4671cc"
      },
      "execution_count": 20,
      "outputs": [
        {
          "output_type": "execute_result",
          "data": {
            "text/plain": [
              "<Figure size 432x288 with 0 Axes>"
            ]
          },
          "metadata": {},
          "execution_count": 20
        },
        {
          "output_type": "display_data",
          "data": {
            "text/plain": [
              "<Figure size 432x288 with 1 Axes>"
            ],
            "image/png": "[encoded data removed]"
          },
          "metadata": {
            "needs_background": "light"
          }
        },
        {
          "output_type": "display_data",
          "data": {
            "text/plain": [
              "<Figure size 432x288 with 1 Axes>"
            ],
            "image/png": "[encoded data removed]"
          },
          "metadata": {
            "needs_background": "light"
          }
        },
        {
          "output_type": "display_data",
          "data": {
            "text/plain": [
              "<Figure size 432x288 with 0 Axes>"
            ]
          },
          "metadata": {}
        }
      ]
    },
    {
      "cell_type": "markdown",
      "metadata": {
        "id": "a8fUXoqeZvwf"
      },
      "source": [
        "**12. Evaluate the performance**"
      ]
    },
    {
      "cell_type": "code",
      "metadata": {
        "colab": {
          "base_uri": "https://localhost:8080/"
        },
        "id": "wawHhkURYMLE",
        "outputId": "8aad0960-d3a1-4a71-9dcc-39027c5b3c86"
      },
      "source": [
        "res =model.evaluate(X_testing, Y_testing)"
      ],
      "execution_count": 21,
      "outputs": [
        {
          "output_type": "stream",
          "name": "stdout",
          "text": [
            "10/10 [==============================] - 0s 2ms/step - loss: 0.5287 - accuracy: 0.7305\n"
          ]
        }
      ]
    },
    {
      "cell_type": "markdown",
      "metadata": {
        "id": "0WCSw36oZyG_"
      },
      "source": [
        "**13. Predict on new datatset**\n"
      ]
    },
    {
      "cell_type": "code",
      "metadata": {
        "colab": {
          "base_uri": "https://localhost:8080/"
        },
        "id": "CcE27mGFYo3G",
        "outputId": "837227e1-d554-495a-bf29-830f084c1ebe"
      },
      "source": [
        "test=X_testing[0]\n",
        "y_act=Y_testing[0]\n",
        "result=model.predict(test.reshape(1,8))\n",
        "result"
      ],
      "execution_count": 22,
      "outputs": [
        {
          "output_type": "execute_result",
          "data": {
            "text/plain": [
              "array([[0.6020728 , 0.39792717]], dtype=float32)"
            ]
          },
          "metadata": {},
          "execution_count": 22
        }
      ]
    },
    {
      "cell_type": "code",
      "metadata": {
        "colab": {
          "base_uri": "https://localhost:8080/"
        },
        "id": "T4RDC-ZHYqv_",
        "outputId": "48551616-d5f9-4e27-cfc3-d764a8981835"
      },
      "source": [
        "import numpy as np\n",
        "y_pred = np.round(result)\n",
        "print(\"Actual:\"+ str(y_act))\n",
        "print(\"Predicted:\"+str(y_pred))"
      ],
      "execution_count": 23,
      "outputs": [
        {
          "output_type": "stream",
          "name": "stdout",
          "text": [
            "Actual:[1. 0.]\n",
            "Predicted:[[1. 0.]]\n"
          ]
        }
      ]
    },
    {
      "cell_type": "markdown",
      "metadata": {
        "id": "E9mMqJtXYz2Q"
      },
      "source": [
        "**Reference:** - https://keras.io/"
      ]
    }
  ]
}